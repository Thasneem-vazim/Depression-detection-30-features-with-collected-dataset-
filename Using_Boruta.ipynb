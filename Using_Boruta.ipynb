{
  "nbformat": 4,
  "nbformat_minor": 0,
  "metadata": {
    "colab": {
      "name": "Using Boruta.ipynb",
      "provenance": [],
      "authorship_tag": "ABX9TyO5BFZkEAnmbozwlXfHsJNB",
      "include_colab_link": true
    },
    "kernelspec": {
      "name": "python3",
      "display_name": "Python 3"
    },
    "language_info": {
      "name": "python"
    }
  },
  "cells": [
    {
      "cell_type": "markdown",
      "metadata": {
        "id": "view-in-github",
        "colab_type": "text"
      },
      "source": [
        "<a href=\"https://colab.research.google.com/github/Thasneem-vazim/Depression-detection-30-features-with-collected-dataset-/blob/main/Using_Boruta.ipynb\" target=\"_parent\"><img src=\"https://colab.research.google.com/assets/colab-badge.svg\" alt=\"Open In Colab\"/></a>"
      ]
    },
    {
      "cell_type": "code",
      "execution_count": 1,
      "metadata": {
        "id": "0ynnCxlHJjDo"
      },
      "outputs": [],
      "source": [
        "import numpy as np\n",
        "import pandas as pd\n",
        "import matplotlib.pyplot as plt\n",
        "import seaborn as sns\n",
        "from sklearn.model_selection import train_test_split\n",
        "from sklearn.linear_model import LogisticRegression\n",
        "from sklearn import metrics\n",
        "#%matplotlib inline\n",
        "import warnings\n",
        "warnings.filterwarnings('ignore')\n",
        "from sklearn.tree import DecisionTreeClassifier\n",
        "\n",
        "pd.set_option('display.max_rows', None)"
      ]
    },
    {
      "cell_type": "code",
      "source": [
        "depressionDataset = pd.read_csv(\"/content/binary class.csv\")\n",
        "X = depressionDataset[['AGERNG','GENDER','EDU','PROF','MARSTS','RESDPL','LIVWTH','ENVSAT','POSSAT','FINSTR','DEBT','PHYEX','SMOKE','DRINK','ILLNESS','PREMED','EATDIS','AVGSLP','INSOM','TSSN','WRKPRE','ANXI','DEPRI','ABUSED','CHEAT','THREAT','SUICIDE','INFER','CONFLICT','LOST']]\n",
        "y=depressionDataset[['DEPRESSED']]\n"
      ],
      "metadata": {
        "id": "_TNzIAWxJuBD"
      },
      "execution_count": 2,
      "outputs": []
    },
    {
      "cell_type": "code",
      "execution_count": 3,
      "metadata": {
        "id": "ovbxpvqH80a3"
      },
      "outputs": [],
      "source": [
        "from sklearn.preprocessing import LabelEncoder\n",
        "### label encode the categorical values and convert them to numbers\n",
        "le = LabelEncoder()\n",
        "le.fit(X['AGERNG'].astype(str))\n",
        "X['AGERNG'] = le.transform(X['AGERNG'].astype(str))\n",
        "\n",
        "le = LabelEncoder()\n",
        "le.fit(X['GENDER'].astype(str))\n",
        "X['GENDER'] = le.transform(X['GENDER'].astype(str))\n",
        "\n",
        "le = LabelEncoder()\n",
        "le.fit(X['EDU'].astype(str))\n",
        "X['EDU'] = le.transform(X['EDU'].astype(str))\n",
        "\n",
        "le = LabelEncoder()\n",
        "le.fit(X['PROF'].astype(str))\n",
        "X['PROF'] = le.transform(X['PROF'].astype(str))\n",
        "\n",
        "\n",
        "le = LabelEncoder()\n",
        "le.fit(X['MARSTS'].astype(str))\n",
        "X['MARSTS'] = le.transform(X['MARSTS'].astype(str))\n",
        "\n",
        "\n",
        "\n",
        "le = LabelEncoder()\n",
        "le.fit(X['RESDPL'].astype(str))\n",
        "X['RESDPL'] = le.transform(X['RESDPL'].astype(str))\n",
        "\n",
        "\n",
        "\n",
        "le = LabelEncoder()\n",
        "le.fit(X['LIVWTH'].astype(str))\n",
        "X['LIVWTH'] = le.transform(X['LIVWTH'].astype(str))\n",
        "\n",
        "\n",
        "\n",
        "le = LabelEncoder()\n",
        "le.fit(X['ENVSAT'].astype(str))\n",
        "X['ENVSAT'] = le.transform(X['ENVSAT'].astype(str))\n",
        "\n",
        "le = LabelEncoder()\n",
        "le.fit(X['POSSAT'].astype(str))\n",
        "X['POSSAT'] = le.transform(X['POSSAT'].astype(str))\n",
        "\n",
        "\n",
        "\n",
        "le = LabelEncoder()\n",
        "le.fit(X['FINSTR'].astype(str))\n",
        "X['FINSTR'] = le.transform(X['FINSTR'].astype(str))\n",
        "\n",
        "le = LabelEncoder()\n",
        "le.fit(X['DEBT'].astype(str))\n",
        "X['DEBT'] = le.transform(X['DEBT'].astype(str))\n",
        "\n",
        "\n",
        "\n",
        "le = LabelEncoder()\n",
        "le.fit(X['PHYEX'].astype(str))\n",
        "X['PHYEX'] = le.transform(X['PHYEX'].astype(str))\n",
        "\n",
        "\n",
        "\n",
        "\n",
        "le = LabelEncoder()\n",
        "le.fit(X['SMOKE'].astype(str))\n",
        "X['SMOKE'] = le.transform(X['SMOKE'].astype(str))\n",
        "\n",
        "\n",
        "\n",
        "le = LabelEncoder()\n",
        "le.fit(X['DRINK'].astype(str))\n",
        "X['DRINK'] = le.transform(X['DRINK'].astype(str))\n",
        "\n",
        "\n",
        "le = LabelEncoder()\n",
        "le.fit(X['ILLNESS'].astype(str))\n",
        "X['ILLNESS'] = le.transform(X['ILLNESS'].astype(str))\n",
        "\n",
        "\n",
        "\n",
        "\n",
        "le = LabelEncoder()\n",
        "le.fit(X['PREMED'].astype(str))\n",
        "X['PREMED'] = le.transform(X['PREMED'].astype(str))\n",
        "\n",
        "\n",
        "\n",
        "le = LabelEncoder()\n",
        "le.fit(X['EATDIS'].astype(str))\n",
        "X['EATDIS'] = le.transform(X['EATDIS'].astype(str))\n",
        "\n",
        "le = LabelEncoder()\n",
        "le.fit(X['AVGSLP'].astype(str))\n",
        "X['AVGSLP'] = le.transform(X['AVGSLP'].astype(str))\n",
        "\n",
        "\n",
        "\n",
        "le = LabelEncoder()\n",
        "le.fit(X['INSOM'].astype(str))\n",
        "X['INSOM'] = le.transform(X['INSOM'].astype(str))\n",
        "\n",
        "\n",
        "\n",
        "\n",
        "le = LabelEncoder()\n",
        "le.fit(X['TSSN'].astype(str))\n",
        "X['TSSN'] = le.transform(X['TSSN'].astype(str))\n",
        "\n",
        "\n",
        "\n",
        "\n",
        "le = LabelEncoder()\n",
        "le.fit(X['WRKPRE'].astype(str))\n",
        "X['WRKPRE'] = le.transform(X['WRKPRE'].astype(str))\n",
        "\n",
        "\n",
        "\n",
        "\n",
        "le = LabelEncoder()\n",
        "le.fit(X['ANXI'].astype(str))\n",
        "X['ANXI'] = le.transform(X['ANXI'].astype(str))\n",
        "\n",
        "\n",
        "\n",
        "\n",
        "le = LabelEncoder()\n",
        "le.fit(X['DEPRI'].astype(str))\n",
        "X['DEPRI'] = le.transform(X['DEPRI'].astype(str))\n",
        "\n",
        "\n",
        "\n",
        "le = LabelEncoder()\n",
        "le.fit(X['ABUSED'].astype(str))\n",
        "X['ABUSED'] = le.transform(X['ABUSED'].astype(str))\n",
        "\n",
        "\n",
        "\n",
        "\n",
        "le = LabelEncoder()\n",
        "le.fit(X['CHEAT'].astype(str))\n",
        "X['CHEAT'] = le.transform(X['CHEAT'].astype(str))\n",
        "\n",
        "\n",
        "\n",
        "le = LabelEncoder()\n",
        "le.fit(X['THREAT'].astype(str))\n",
        "X['THREAT'] = le.transform(X['THREAT'].astype(str))\n",
        "\n",
        "\n",
        "\n",
        "le = LabelEncoder()\n",
        "le.fit(X['SUICIDE'].astype(str))\n",
        "X['SUICIDE'] = le.transform(X['SUICIDE'].astype(str))\n",
        "\n",
        "\n",
        "le = LabelEncoder()\n",
        "le.fit(X['INFER'].astype(str))\n",
        "X['INFER'] = le.transform(X['INFER'].astype(str))\n",
        "\n",
        "\n",
        "le = LabelEncoder()\n",
        "le.fit(X['CONFLICT'].astype(str))\n",
        "X['CONFLICT'] = le.transform(X['CONFLICT'].astype(str))\n",
        "\n",
        "\n",
        "\n",
        "le = LabelEncoder()\n",
        "le.fit(X['LOST'].astype(str))\n",
        "X['LOST'] = le.transform(X['LOST'].astype(str))\n",
        "le = LabelEncoder()\n",
        "\n",
        "le.fit(y['DEPRESSED'].astype(str))\n",
        "y['DEPRESSED'] = le.transform(y['DEPRESSED'].astype(str))\n"
      ]
    },
    {
      "cell_type": "code",
      "source": [
        "X_train,X_test,y_train,y_test=train_test_split(X,y,test_size=0.2,random_state=0)"
      ],
      "metadata": {
        "id": "wt5DNJtUOtlv"
      },
      "execution_count": 4,
      "outputs": []
    },
    {
      "cell_type": "code",
      "source": [
        "!pip install Boruta"
      ],
      "metadata": {
        "colab": {
          "base_uri": "https://localhost:8080/"
        },
        "id": "to5k7e0VJ8CN",
        "outputId": "fa96e834-5606-4d9f-a5f2-d0700f058934"
      },
      "execution_count": 5,
      "outputs": [
        {
          "output_type": "stream",
          "name": "stdout",
          "text": [
            "Collecting Boruta\n",
            "  Downloading Boruta-0.3-py3-none-any.whl (56 kB)\n",
            "\u001b[?25l\r\u001b[K     |█████▉                          | 10 kB 9.8 MB/s eta 0:00:01\r\u001b[K     |███████████▋                    | 20 kB 14.7 MB/s eta 0:00:01\r\u001b[K     |█████████████████▍              | 30 kB 18.6 MB/s eta 0:00:01\r\u001b[K     |███████████████████████▏        | 40 kB 21.6 MB/s eta 0:00:01\r\u001b[K     |█████████████████████████████   | 51 kB 11.1 MB/s eta 0:00:01\r\u001b[K     |████████████████████████████████| 56 kB 3.7 MB/s \n",
            "\u001b[?25hRequirement already satisfied: scikit-learn>=0.17.1 in /usr/local/lib/python3.7/dist-packages (from Boruta) (1.0.2)\n",
            "Requirement already satisfied: numpy>=1.10.4 in /usr/local/lib/python3.7/dist-packages (from Boruta) (1.21.6)\n",
            "Requirement already satisfied: scipy>=0.17.0 in /usr/local/lib/python3.7/dist-packages (from Boruta) (1.4.1)\n",
            "Requirement already satisfied: threadpoolctl>=2.0.0 in /usr/local/lib/python3.7/dist-packages (from scikit-learn>=0.17.1->Boruta) (3.1.0)\n",
            "Requirement already satisfied: joblib>=0.11 in /usr/local/lib/python3.7/dist-packages (from scikit-learn>=0.17.1->Boruta) (1.1.0)\n",
            "Installing collected packages: Boruta\n",
            "Successfully installed Boruta-0.3\n"
          ]
        }
      ]
    },
    {
      "cell_type": "code",
      "source": [
        "import pandas as pd\n",
        "from sklearn.ensemble import RandomForestClassifier\n",
        "from boruta import BorutaPy\n",
        "\n",
        "# load X and y\n",
        "# NOTE BorutaPy accepts numpy arrays only, hence the .values attribute\n",
        "\n",
        "X=X_train.to_numpy()\n",
        "y=y_train.to_numpy().ravel()\n",
        "\n",
        "print(type(X))\n",
        "print(type(y))\n",
        "# define random forest classifier, with utilising all cores and\n",
        "# sampling in proportion to y labels\n",
        "rf = RandomForestClassifier(n_jobs=-1, class_weight='balanced', max_depth=5)\n",
        "\n",
        "# define Boruta feature selection method\n",
        "feat_selector = BorutaPy(rf, n_estimators='auto', verbose=2, random_state=1)\n",
        "\n",
        "# find all relevant features - 5 features should be selected\n",
        "feat_selector.fit(X, y)\n",
        "\n",
        "# check selected features - first 5 features are selected\n",
        "feat_selector.support_\n",
        "\n",
        "# check ranking of features\n",
        "feat_selector.ranking_\n",
        "\n",
        "# call transform() on X to filter it down to selected features\n",
        "X_filtered = feat_selector.transform(X)"
      ],
      "metadata": {
        "colab": {
          "base_uri": "https://localhost:8080/"
        },
        "id": "nCIBcoMIKDm2",
        "outputId": "af6d4e76-6d46-40d2-d0bd-3b1180e3a97c"
      },
      "execution_count": 6,
      "outputs": [
        {
          "output_type": "stream",
          "name": "stdout",
          "text": [
            "<class 'numpy.ndarray'>\n",
            "<class 'numpy.ndarray'>\n",
            "Iteration: \t1 / 100\n",
            "Confirmed: \t0\n",
            "Tentative: \t30\n",
            "Rejected: \t0\n",
            "Iteration: \t2 / 100\n",
            "Confirmed: \t0\n",
            "Tentative: \t30\n",
            "Rejected: \t0\n",
            "Iteration: \t3 / 100\n",
            "Confirmed: \t0\n",
            "Tentative: \t30\n",
            "Rejected: \t0\n",
            "Iteration: \t4 / 100\n",
            "Confirmed: \t0\n",
            "Tentative: \t30\n",
            "Rejected: \t0\n",
            "Iteration: \t5 / 100\n",
            "Confirmed: \t0\n",
            "Tentative: \t30\n",
            "Rejected: \t0\n",
            "Iteration: \t6 / 100\n",
            "Confirmed: \t0\n",
            "Tentative: \t30\n",
            "Rejected: \t0\n",
            "Iteration: \t7 / 100\n",
            "Confirmed: \t0\n",
            "Tentative: \t30\n",
            "Rejected: \t0\n",
            "Iteration: \t8 / 100\n",
            "Confirmed: \t7\n",
            "Tentative: \t5\n",
            "Rejected: \t18\n",
            "Iteration: \t9 / 100\n",
            "Confirmed: \t7\n",
            "Tentative: \t5\n",
            "Rejected: \t18\n",
            "Iteration: \t10 / 100\n",
            "Confirmed: \t7\n",
            "Tentative: \t5\n",
            "Rejected: \t18\n",
            "Iteration: \t11 / 100\n",
            "Confirmed: \t7\n",
            "Tentative: \t5\n",
            "Rejected: \t18\n",
            "Iteration: \t12 / 100\n",
            "Confirmed: \t7\n",
            "Tentative: \t4\n",
            "Rejected: \t19\n",
            "Iteration: \t13 / 100\n",
            "Confirmed: \t7\n",
            "Tentative: \t4\n",
            "Rejected: \t19\n",
            "Iteration: \t14 / 100\n",
            "Confirmed: \t7\n",
            "Tentative: \t4\n",
            "Rejected: \t19\n",
            "Iteration: \t15 / 100\n",
            "Confirmed: \t7\n",
            "Tentative: \t4\n",
            "Rejected: \t19\n",
            "Iteration: \t16 / 100\n",
            "Confirmed: \t7\n",
            "Tentative: \t4\n",
            "Rejected: \t19\n",
            "Iteration: \t17 / 100\n",
            "Confirmed: \t7\n",
            "Tentative: \t4\n",
            "Rejected: \t19\n",
            "Iteration: \t18 / 100\n",
            "Confirmed: \t7\n",
            "Tentative: \t4\n",
            "Rejected: \t19\n",
            "Iteration: \t19 / 100\n",
            "Confirmed: \t7\n",
            "Tentative: \t4\n",
            "Rejected: \t19\n",
            "Iteration: \t20 / 100\n",
            "Confirmed: \t7\n",
            "Tentative: \t4\n",
            "Rejected: \t19\n",
            "Iteration: \t21 / 100\n",
            "Confirmed: \t7\n",
            "Tentative: \t4\n",
            "Rejected: \t19\n",
            "Iteration: \t22 / 100\n",
            "Confirmed: \t7\n",
            "Tentative: \t4\n",
            "Rejected: \t19\n",
            "Iteration: \t23 / 100\n",
            "Confirmed: \t7\n",
            "Tentative: \t4\n",
            "Rejected: \t19\n",
            "Iteration: \t24 / 100\n",
            "Confirmed: \t7\n",
            "Tentative: \t4\n",
            "Rejected: \t19\n",
            "Iteration: \t25 / 100\n",
            "Confirmed: \t7\n",
            "Tentative: \t4\n",
            "Rejected: \t19\n",
            "Iteration: \t26 / 100\n",
            "Confirmed: \t7\n",
            "Tentative: \t4\n",
            "Rejected: \t19\n",
            "Iteration: \t27 / 100\n",
            "Confirmed: \t7\n",
            "Tentative: \t4\n",
            "Rejected: \t19\n",
            "Iteration: \t28 / 100\n",
            "Confirmed: \t7\n",
            "Tentative: \t4\n",
            "Rejected: \t19\n",
            "Iteration: \t29 / 100\n",
            "Confirmed: \t7\n",
            "Tentative: \t4\n",
            "Rejected: \t19\n",
            "Iteration: \t30 / 100\n",
            "Confirmed: \t7\n",
            "Tentative: \t4\n",
            "Rejected: \t19\n",
            "Iteration: \t31 / 100\n",
            "Confirmed: \t7\n",
            "Tentative: \t4\n",
            "Rejected: \t19\n",
            "Iteration: \t32 / 100\n",
            "Confirmed: \t7\n",
            "Tentative: \t3\n",
            "Rejected: \t20\n",
            "Iteration: \t33 / 100\n",
            "Confirmed: \t7\n",
            "Tentative: \t3\n",
            "Rejected: \t20\n",
            "Iteration: \t34 / 100\n",
            "Confirmed: \t7\n",
            "Tentative: \t3\n",
            "Rejected: \t20\n",
            "Iteration: \t35 / 100\n",
            "Confirmed: \t7\n",
            "Tentative: \t3\n",
            "Rejected: \t20\n",
            "Iteration: \t36 / 100\n",
            "Confirmed: \t7\n",
            "Tentative: \t3\n",
            "Rejected: \t20\n",
            "Iteration: \t37 / 100\n",
            "Confirmed: \t7\n",
            "Tentative: \t3\n",
            "Rejected: \t20\n",
            "Iteration: \t38 / 100\n",
            "Confirmed: \t7\n",
            "Tentative: \t3\n",
            "Rejected: \t20\n",
            "Iteration: \t39 / 100\n",
            "Confirmed: \t7\n",
            "Tentative: \t3\n",
            "Rejected: \t20\n",
            "Iteration: \t40 / 100\n",
            "Confirmed: \t7\n",
            "Tentative: \t2\n",
            "Rejected: \t21\n",
            "Iteration: \t41 / 100\n",
            "Confirmed: \t7\n",
            "Tentative: \t2\n",
            "Rejected: \t21\n",
            "Iteration: \t42 / 100\n",
            "Confirmed: \t7\n",
            "Tentative: \t2\n",
            "Rejected: \t21\n",
            "Iteration: \t43 / 100\n",
            "Confirmed: \t7\n",
            "Tentative: \t2\n",
            "Rejected: \t21\n",
            "Iteration: \t44 / 100\n",
            "Confirmed: \t7\n",
            "Tentative: \t2\n",
            "Rejected: \t21\n",
            "Iteration: \t45 / 100\n",
            "Confirmed: \t7\n",
            "Tentative: \t2\n",
            "Rejected: \t21\n",
            "Iteration: \t46 / 100\n",
            "Confirmed: \t7\n",
            "Tentative: \t2\n",
            "Rejected: \t21\n",
            "Iteration: \t47 / 100\n",
            "Confirmed: \t7\n",
            "Tentative: \t2\n",
            "Rejected: \t21\n",
            "Iteration: \t48 / 100\n",
            "Confirmed: \t7\n",
            "Tentative: \t2\n",
            "Rejected: \t21\n",
            "Iteration: \t49 / 100\n",
            "Confirmed: \t7\n",
            "Tentative: \t1\n",
            "Rejected: \t22\n",
            "Iteration: \t50 / 100\n",
            "Confirmed: \t7\n",
            "Tentative: \t1\n",
            "Rejected: \t22\n",
            "Iteration: \t51 / 100\n",
            "Confirmed: \t7\n",
            "Tentative: \t1\n",
            "Rejected: \t22\n",
            "Iteration: \t52 / 100\n",
            "Confirmed: \t7\n",
            "Tentative: \t1\n",
            "Rejected: \t22\n",
            "Iteration: \t53 / 100\n",
            "Confirmed: \t7\n",
            "Tentative: \t1\n",
            "Rejected: \t22\n",
            "Iteration: \t54 / 100\n",
            "Confirmed: \t7\n",
            "Tentative: \t1\n",
            "Rejected: \t22\n",
            "Iteration: \t55 / 100\n",
            "Confirmed: \t7\n",
            "Tentative: \t1\n",
            "Rejected: \t22\n",
            "Iteration: \t56 / 100\n",
            "Confirmed: \t7\n",
            "Tentative: \t1\n",
            "Rejected: \t22\n",
            "Iteration: \t57 / 100\n",
            "Confirmed: \t7\n",
            "Tentative: \t1\n",
            "Rejected: \t22\n",
            "Iteration: \t58 / 100\n",
            "Confirmed: \t7\n",
            "Tentative: \t1\n",
            "Rejected: \t22\n",
            "Iteration: \t59 / 100\n",
            "Confirmed: \t7\n",
            "Tentative: \t1\n",
            "Rejected: \t22\n",
            "Iteration: \t60 / 100\n",
            "Confirmed: \t7\n",
            "Tentative: \t1\n",
            "Rejected: \t22\n",
            "Iteration: \t61 / 100\n",
            "Confirmed: \t7\n",
            "Tentative: \t1\n",
            "Rejected: \t22\n",
            "Iteration: \t62 / 100\n",
            "Confirmed: \t7\n",
            "Tentative: \t1\n",
            "Rejected: \t22\n",
            "Iteration: \t63 / 100\n",
            "Confirmed: \t7\n",
            "Tentative: \t1\n",
            "Rejected: \t22\n",
            "Iteration: \t64 / 100\n",
            "Confirmed: \t7\n",
            "Tentative: \t1\n",
            "Rejected: \t22\n",
            "Iteration: \t65 / 100\n",
            "Confirmed: \t7\n",
            "Tentative: \t1\n",
            "Rejected: \t22\n",
            "Iteration: \t66 / 100\n",
            "Confirmed: \t7\n",
            "Tentative: \t1\n",
            "Rejected: \t22\n",
            "Iteration: \t67 / 100\n",
            "Confirmed: \t7\n",
            "Tentative: \t1\n",
            "Rejected: \t22\n",
            "Iteration: \t68 / 100\n",
            "Confirmed: \t7\n",
            "Tentative: \t1\n",
            "Rejected: \t22\n",
            "Iteration: \t69 / 100\n",
            "Confirmed: \t7\n",
            "Tentative: \t1\n",
            "Rejected: \t22\n",
            "Iteration: \t70 / 100\n",
            "Confirmed: \t7\n",
            "Tentative: \t1\n",
            "Rejected: \t22\n",
            "Iteration: \t71 / 100\n",
            "Confirmed: \t7\n",
            "Tentative: \t1\n",
            "Rejected: \t22\n",
            "Iteration: \t72 / 100\n",
            "Confirmed: \t7\n",
            "Tentative: \t1\n",
            "Rejected: \t22\n",
            "Iteration: \t73 / 100\n",
            "Confirmed: \t7\n",
            "Tentative: \t1\n",
            "Rejected: \t22\n",
            "Iteration: \t74 / 100\n",
            "Confirmed: \t7\n",
            "Tentative: \t1\n",
            "Rejected: \t22\n",
            "Iteration: \t75 / 100\n",
            "Confirmed: \t7\n",
            "Tentative: \t1\n",
            "Rejected: \t22\n",
            "Iteration: \t76 / 100\n",
            "Confirmed: \t7\n",
            "Tentative: \t1\n",
            "Rejected: \t22\n",
            "Iteration: \t77 / 100\n",
            "Confirmed: \t7\n",
            "Tentative: \t1\n",
            "Rejected: \t22\n",
            "Iteration: \t78 / 100\n",
            "Confirmed: \t7\n",
            "Tentative: \t1\n",
            "Rejected: \t22\n",
            "Iteration: \t79 / 100\n",
            "Confirmed: \t7\n",
            "Tentative: \t1\n",
            "Rejected: \t22\n",
            "Iteration: \t80 / 100\n",
            "Confirmed: \t7\n",
            "Tentative: \t1\n",
            "Rejected: \t22\n",
            "Iteration: \t81 / 100\n",
            "Confirmed: \t7\n",
            "Tentative: \t1\n",
            "Rejected: \t22\n",
            "Iteration: \t82 / 100\n",
            "Confirmed: \t7\n",
            "Tentative: \t1\n",
            "Rejected: \t22\n",
            "Iteration: \t83 / 100\n",
            "Confirmed: \t7\n",
            "Tentative: \t1\n",
            "Rejected: \t22\n",
            "Iteration: \t84 / 100\n",
            "Confirmed: \t7\n",
            "Tentative: \t1\n",
            "Rejected: \t22\n",
            "Iteration: \t85 / 100\n",
            "Confirmed: \t7\n",
            "Tentative: \t1\n",
            "Rejected: \t22\n",
            "Iteration: \t86 / 100\n",
            "Confirmed: \t7\n",
            "Tentative: \t1\n",
            "Rejected: \t22\n",
            "Iteration: \t87 / 100\n",
            "Confirmed: \t7\n",
            "Tentative: \t1\n",
            "Rejected: \t22\n",
            "Iteration: \t88 / 100\n",
            "Confirmed: \t7\n",
            "Tentative: \t1\n",
            "Rejected: \t22\n",
            "Iteration: \t89 / 100\n",
            "Confirmed: \t7\n",
            "Tentative: \t1\n",
            "Rejected: \t22\n",
            "Iteration: \t90 / 100\n",
            "Confirmed: \t7\n",
            "Tentative: \t1\n",
            "Rejected: \t22\n",
            "Iteration: \t91 / 100\n",
            "Confirmed: \t7\n",
            "Tentative: \t1\n",
            "Rejected: \t22\n",
            "Iteration: \t92 / 100\n",
            "Confirmed: \t7\n",
            "Tentative: \t1\n",
            "Rejected: \t22\n",
            "Iteration: \t93 / 100\n",
            "Confirmed: \t7\n",
            "Tentative: \t1\n",
            "Rejected: \t22\n",
            "Iteration: \t94 / 100\n",
            "Confirmed: \t7\n",
            "Tentative: \t1\n",
            "Rejected: \t22\n",
            "Iteration: \t95 / 100\n",
            "Confirmed: \t7\n",
            "Tentative: \t1\n",
            "Rejected: \t22\n",
            "Iteration: \t96 / 100\n",
            "Confirmed: \t7\n",
            "Tentative: \t1\n",
            "Rejected: \t22\n",
            "Iteration: \t97 / 100\n",
            "Confirmed: \t7\n",
            "Tentative: \t1\n",
            "Rejected: \t22\n",
            "Iteration: \t98 / 100\n",
            "Confirmed: \t7\n",
            "Tentative: \t1\n",
            "Rejected: \t22\n",
            "Iteration: \t99 / 100\n",
            "Confirmed: \t7\n",
            "Tentative: \t1\n",
            "Rejected: \t22\n",
            "\n",
            "\n",
            "BorutaPy finished running.\n",
            "\n",
            "Iteration: \t100 / 100\n",
            "Confirmed: \t7\n",
            "Tentative: \t1\n",
            "Rejected: \t22\n"
          ]
        }
      ]
    },
    {
      "cell_type": "code",
      "source": [
        "print(feat_selector.support_)\n",
        "print(feat_selector.ranking_)"
      ],
      "metadata": {
        "colab": {
          "base_uri": "https://localhost:8080/"
        },
        "id": "A4JDaiePN6WW",
        "outputId": "20baa806-276c-4b0b-c456-4b290c23b050"
      },
      "execution_count": 7,
      "outputs": [
        {
          "output_type": "stream",
          "name": "stdout",
          "text": [
            "[ True False False  True False False False False  True False False False\n",
            " False False False False False False  True False False  True  True False\n",
            " False False False  True False False]\n",
            "[ 1 13 17  1 19  9 20  3  1  6 17 10 21 22 23 17 12  5  1  8  2  1  1 11\n",
            " 15  7  4  1  3 14]\n"
          ]
        }
      ]
    },
    {
      "cell_type": "code",
      "source": [
        "\n",
        "X_trainSelectedFeature=pd.DataFrame()\n",
        "\n",
        "X_trainSelectedFeature['AGERNG']=X_train['AGERNG']\n",
        "X_trainSelectedFeature['PROF']=X_train['PROF']\n",
        "X_trainSelectedFeature['POSSAT']=X_train['POSSAT']\n",
        "X_trainSelectedFeature['INSOM']=X_train['INSOM']\n",
        "X_trainSelectedFeature['INFER']=X_train['INFER']\n",
        "X_trainSelectedFeature['ANXI']=X_train['ANXI']\n",
        "X_trainSelectedFeature['DEPRI']=X_train['DEPRI']\n",
        "\n",
        "\n",
        "\n",
        "\n",
        "\n"
      ],
      "metadata": {
        "id": "SjWaio2cKYZR"
      },
      "execution_count": 8,
      "outputs": []
    },
    {
      "cell_type": "code",
      "source": [
        "X_testSelectedFeature=pd.DataFrame()\n",
        "\n",
        "X_testSelectedFeature['AGERNG']=X_test['AGERNG']\n",
        "X_testSelectedFeature['PROF']=X_test['PROF']\n",
        "X_testSelectedFeature['POSSAT']=X_test['POSSAT']\n",
        "X_testSelectedFeature['INSOM']=X_test['INSOM']\n",
        "X_testSelectedFeature['INFER']=X_test['INFER']\n",
        "X_testSelectedFeature['ANXI']=X_test['ANXI']\n",
        "X_testSelectedFeature['DEPRI']=X_test['DEPRI']\n",
        "\n",
        "\n",
        "\n"
      ],
      "metadata": {
        "id": "R4oo7VVEKiPR"
      },
      "execution_count": 9,
      "outputs": []
    },
    {
      "cell_type": "code",
      "source": [
        "X_trainSelectedFeature.shape"
      ],
      "metadata": {
        "colab": {
          "base_uri": "https://localhost:8080/"
        },
        "id": "h3Kv1P1kOVN4",
        "outputId": "55fe1f5b-657a-419b-e26b-167f64f30953"
      },
      "execution_count": 10,
      "outputs": [
        {
          "output_type": "execute_result",
          "data": {
            "text/plain": [
              "(299, 7)"
            ]
          },
          "metadata": {},
          "execution_count": 10
        }
      ]
    },
    {
      "cell_type": "code",
      "source": [
        "X_testSelectedFeature.shape"
      ],
      "metadata": {
        "colab": {
          "base_uri": "https://localhost:8080/"
        },
        "id": "-zE351nNOdnz",
        "outputId": "7afec1e4-cc83-447b-aaa7-515fb5adf73c"
      },
      "execution_count": 11,
      "outputs": [
        {
          "output_type": "execute_result",
          "data": {
            "text/plain": [
              "(75, 7)"
            ]
          },
          "metadata": {},
          "execution_count": 11
        }
      ]
    },
    {
      "cell_type": "code",
      "source": [
        "from imblearn.over_sampling import SMOTE\n",
        "smote=SMOTE('minority',random_state=0)\n",
        "X_trainSelectedFeatureAfterSMOTE,y_train=smote.fit_resample(X_trainSelectedFeature, y_train)"
      ],
      "metadata": {
        "id": "cO8N3U6YKnox"
      },
      "execution_count": 12,
      "outputs": []
    },
    {
      "cell_type": "code",
      "source": [
        "from sklearn.neighbors import KNeighborsClassifier\n",
        "import time\n",
        "KNNClassification = KNeighborsClassifier(n_neighbors=7)\n",
        "KNNClassification.fit(X_trainSelectedFeatureAfterSMOTE,y_train)\n",
        "y_predict=KNNClassification.predict(X_testSelectedFeature)\n",
        "from sklearn.metrics import classification_report,confusion_matrix\n",
        "cm1=confusion_matrix(y_test,y_predict)\n",
        "import seaborn as sns\n",
        "sns.heatmap(cm1,annot=True)\n",
        "print(classification_report(y_test,y_predict))\n",
        "\n",
        "\n",
        "\n"
      ],
      "metadata": {
        "colab": {
          "base_uri": "https://localhost:8080/",
          "height": 421
        },
        "id": "FzxNUadXKrjT",
        "outputId": "682b6735-0772-44c4-ee4a-0f4205483314"
      },
      "execution_count": 16,
      "outputs": [
        {
          "output_type": "stream",
          "name": "stdout",
          "text": [
            "              precision    recall  f1-score   support\n",
            "\n",
            "           0       0.86      0.50      0.63        36\n",
            "           1       0.67      0.92      0.77        39\n",
            "\n",
            "    accuracy                           0.72        75\n",
            "   macro avg       0.76      0.71      0.70        75\n",
            "weighted avg       0.76      0.72      0.71        75\n",
            "\n"
          ]
        },
        {
          "output_type": "display_data",
          "data": {
            "text/plain": [
              "<Figure size 432x288 with 2 Axes>"
            ],
            "image/png": "[encoded data removed]"
          },
          "metadata": {
            "needs_background": "light"
          }
        }
      ]
    },
    {
      "cell_type": "code",
      "source": [
        "y_predictionKNN_proba=KNNClassification.predict_proba(X_testSelectedFeature)[:,1]\n",
        "AUCKNN=metrics.roc_auc_score(y_test,y_predictionKNN_proba)\n",
        "print(\"AUC KNN: \",AUCKNN)\n",
        "fprKNN, tprKNN, thresholds = metrics.roc_curve(y_test,y_predictionKNN_proba)\n",
        "\n",
        "plt.plot(fprKNN,tprKNN,label=\"KNN ( area = \"+str(AUCKNN)+\" )\")\n",
        "plt.xlabel('False Positive Rate')\n",
        "plt.ylabel('True Positive Rate')\n",
        "plt.legend(loc=4)\n",
        "plt.show()\n"
      ],
      "metadata": {
        "colab": {
          "base_uri": "https://localhost:8080/",
          "height": 296
        },
        "id": "mlUvvM8jBKOL",
        "outputId": "125d4824-8b60-4869-e82f-7088980c01a6"
      },
      "execution_count": 15,
      "outputs": [
        {
          "output_type": "stream",
          "name": "stdout",
          "text": [
            "AUC KNN:  0.7849002849002849\n"
          ]
        },
        {
          "output_type": "display_data",
          "data": {
            "text/plain": [
              "<Figure size 432x288 with 1 Axes>"
            ],
            "image/png": "[encoded data removed]"
          },
          "metadata": {
            "needs_background": "light"
          }
        }
      ]
    },
    {
      "cell_type": "code",
      "source": [
        "prediction=KNNClassification.predict(X_testSelectedFeature)\n",
        "print('Accuracy = ', metrics.accuracy_score(y_test, prediction)*100)"
      ],
      "metadata": {
        "colab": {
          "base_uri": "https://localhost:8080/"
        },
        "id": "flSHNcp2B47y",
        "outputId": "f166892b-88a0-475b-fb57-99ba63ca6ad6"
      },
      "execution_count": 27,
      "outputs": [
        {
          "output_type": "stream",
          "name": "stdout",
          "text": [
            "Accuracy =  72.0\n"
          ]
        }
      ]
    },
    {
      "cell_type": "code",
      "source": [
        "from sklearn.ensemble import AdaBoostClassifier\n",
        "ADABoostClassification=AdaBoostClassifier()\n",
        "ADABoostClassification.fit(X_trainSelectedFeatureAfterSMOTE,y_train)\n",
        "y_predictionADABoost=ADABoostClassification.predict(X_testSelectedFeature)"
      ],
      "metadata": {
        "id": "CiwsNTOVKxsT"
      },
      "execution_count": 17,
      "outputs": []
    },
    {
      "cell_type": "code",
      "source": [
        "from sklearn.metrics import classification_report,confusion_matrix\n",
        "y_predict_test=ADABoostClassification.predict(X_testSelectedFeature)\n",
        "cm1=confusion_matrix(y_test,y_predict_test)\n",
        "import seaborn as sns\n",
        "sns.heatmap(cm1,annot=True)\n",
        "print(classification_report(y_test,y_predict_test))"
      ],
      "metadata": {
        "colab": {
          "base_uri": "https://localhost:8080/",
          "height": 421
        },
        "id": "K7jkIPUPLIg4",
        "outputId": "0aff38ee-371e-4e66-d962-3178bc898cb8"
      },
      "execution_count": 18,
      "outputs": [
        {
          "output_type": "stream",
          "name": "stdout",
          "text": [
            "              precision    recall  f1-score   support\n",
            "\n",
            "           0       0.79      0.64      0.71        36\n",
            "           1       0.72      0.85      0.78        39\n",
            "\n",
            "    accuracy                           0.75        75\n",
            "   macro avg       0.76      0.74      0.74        75\n",
            "weighted avg       0.75      0.75      0.74        75\n",
            "\n"
          ]
        },
        {
          "output_type": "display_data",
          "data": {
            "text/plain": [
              "<Figure size 432x288 with 2 Axes>"
            ],
            "image/png": "[encoded data removed]"
          },
          "metadata": {
            "needs_background": "light"
          }
        }
      ]
    },
    {
      "cell_type": "code",
      "source": [
        "y_predictionKNN_proba=ADABoostClassification.predict_proba(X_testSelectedFeature)[:,1]\n",
        "AUCKNN=metrics.roc_auc_score(y_test,y_predictionKNN_proba)\n",
        "print(\"AUC KNN: \",AUCKNN)\n",
        "fprKNN, tprKNN, thresholds = metrics.roc_curve(y_test,y_predictionKNN_proba)\n",
        "\n",
        "plt.plot(fprKNN,tprKNN,label=\"KNN ( area = \"+str(AUCKNN)+\" )\")\n",
        "plt.xlabel('False Positive Rate')\n",
        "plt.ylabel('True Positive Rate')\n",
        "plt.legend(loc=4)\n",
        "plt.show()\n"
      ],
      "metadata": {
        "colab": {
          "base_uri": "https://localhost:8080/",
          "height": 296
        },
        "id": "DYE9FzaQKJdO",
        "outputId": "258c4165-0fcf-4ffc-92fa-7c8f45c69237"
      },
      "execution_count": 19,
      "outputs": [
        {
          "output_type": "stream",
          "name": "stdout",
          "text": [
            "AUC KNN:  0.7934472934472934\n"
          ]
        },
        {
          "output_type": "display_data",
          "data": {
            "text/plain": [
              "<Figure size 432x288 with 1 Axes>"
            ],
            "image/png": "[encoded data removed]"
          },
          "metadata": {
            "needs_background": "light"
          }
        }
      ]
    },
    {
      "cell_type": "code",
      "source": [
        "prediction=ADABoostClassification.predict(X_testSelectedFeature)\n",
        "print('Accuracy = ', metrics.accuracy_score(y_test, prediction)*100)"
      ],
      "metadata": {
        "colab": {
          "base_uri": "https://localhost:8080/"
        },
        "id": "7B5oJdVxB23l",
        "outputId": "b69f7c95-28c1-4ada-a8e1-7f0c0bfa09a9"
      },
      "execution_count": 28,
      "outputs": [
        {
          "output_type": "stream",
          "name": "stdout",
          "text": [
            "Accuracy =  74.66666666666667\n"
          ]
        }
      ]
    },
    {
      "cell_type": "code",
      "source": [
        "from sklearn.ensemble import GradientBoostingClassifier\n",
        "GradeintBoostClassification = GradientBoostingClassifier(loss='deviance',max_features=1,random_state=0,max_leaf_nodes=None)\n",
        "GradeintBoostClassification.fit(X_trainSelectedFeatureAfterSMOTE,y_train)\n",
        "y_predict=GradeintBoostClassification.predict(X_testSelectedFeature)\n",
        "\n",
        "cm1=confusion_matrix(y_test,y_predict)\n",
        "import seaborn as sns\n",
        "sns.heatmap(cm1,annot=True)\n",
        "print(classification_report(y_test,y_predict))"
      ],
      "metadata": {
        "colab": {
          "base_uri": "https://localhost:8080/",
          "height": 421
        },
        "id": "WElr9MUtMLZu",
        "outputId": "71aa349c-b520-481a-a4cf-1aeac6113e66"
      },
      "execution_count": 20,
      "outputs": [
        {
          "output_type": "stream",
          "name": "stdout",
          "text": [
            "              precision    recall  f1-score   support\n",
            "\n",
            "           0       0.81      0.58      0.68        36\n",
            "           1       0.69      0.87      0.77        39\n",
            "\n",
            "    accuracy                           0.73        75\n",
            "   macro avg       0.75      0.73      0.73        75\n",
            "weighted avg       0.75      0.73      0.73        75\n",
            "\n"
          ]
        },
        {
          "output_type": "display_data",
          "data": {
            "text/plain": [
              "<Figure size 432x288 with 2 Axes>"
            ],
            "image/png": "[encoded data removed]"
          },
          "metadata": {
            "needs_background": "light"
          }
        }
      ]
    },
    {
      "cell_type": "code",
      "source": [
        "y_predictionKNN_proba=GradeintBoostClassification.predict_proba(X_testSelectedFeature)[:,1]\n",
        "AUCKNN=metrics.roc_auc_score(y_test,y_predictionKNN_proba)\n",
        "print(\"AUC KNN: \",AUCKNN)\n",
        "fprKNN, tprKNN, thresholds = metrics.roc_curve(y_test,y_predictionKNN_proba)\n",
        "\n",
        "plt.plot(fprKNN,tprKNN,label=\"KNN ( area = \"+str(AUCKNN)+\" )\")\n",
        "plt.xlabel('False Positive Rate')\n",
        "plt.ylabel('True Positive Rate')\n",
        "plt.legend(loc=4)\n",
        "plt.show()\n"
      ],
      "metadata": {
        "colab": {
          "base_uri": "https://localhost:8080/",
          "height": 296
        },
        "id": "J4GKLQGeMnG6",
        "outputId": "7ceed7ca-50ab-4c20-f42c-33ebebc4c3ad"
      },
      "execution_count": 21,
      "outputs": [
        {
          "output_type": "stream",
          "name": "stdout",
          "text": [
            "AUC KNN:  0.8162393162393162\n"
          ]
        },
        {
          "output_type": "display_data",
          "data": {
            "text/plain": [
              "<Figure size 432x288 with 1 Axes>"
            ],
            "image/png": "[encoded data removed]"
          },
          "metadata": {
            "needs_background": "light"
          }
        }
      ]
    },
    {
      "cell_type": "code",
      "source": [
        "prediction=GradeintBoostClassification.predict(X_testSelectedFeature)\n",
        "print('Accuracy = ', metrics.accuracy_score(y_test, prediction)*100)"
      ],
      "metadata": {
        "colab": {
          "base_uri": "https://localhost:8080/"
        },
        "id": "rgYfy4kFB0lN",
        "outputId": "bca4f021-0a08-44be-82b6-84b6a8e173e3"
      },
      "execution_count": 29,
      "outputs": [
        {
          "output_type": "stream",
          "name": "stdout",
          "text": [
            "Accuracy =  73.33333333333333\n"
          ]
        }
      ]
    },
    {
      "cell_type": "code",
      "execution_count": 22,
      "metadata": {
        "colab": {
          "base_uri": "https://localhost:8080/",
          "height": 421
        },
        "id": "bf4MO-Z18aP_",
        "outputId": "21577a75-29b6-488c-8773-0698875ab655"
      },
      "outputs": [
        {
          "output_type": "stream",
          "name": "stdout",
          "text": [
            "              precision    recall  f1-score   support\n",
            "\n",
            "           0       0.77      0.64      0.70        36\n",
            "           1       0.71      0.82      0.76        39\n",
            "\n",
            "    accuracy                           0.73        75\n",
            "   macro avg       0.74      0.73      0.73        75\n",
            "weighted avg       0.74      0.73      0.73        75\n",
            "\n"
          ]
        },
        {
          "output_type": "display_data",
          "data": {
            "text/plain": [
              "<Figure size 432x288 with 2 Axes>"
            ],
            "image/png": "[encoded data removed]"
          },
          "metadata": {
            "needs_background": "light"
          }
        }
      ],
      "source": [
        "from xgboost import XGBClassifier\n",
        "import xgboost as xgb\n",
        "params = {\n",
        " 'objective':'binary:logistic',\n",
        " 'max_depth': 1, 'min_child_weight': 1, 'gamma': 0.3, 'subsample': 0.6,\n",
        " 'colsample_bytree': 0.6, 'scale_pos_weight': 1,\n",
        " 'alpha': 0.05,\n",
        " 'learning_rate': 0.03,\n",
        " 'n_estimators':1484,'seed': 27\n",
        " }\n",
        "XGBoostClassification = XGBClassifier(**params)\n",
        "XGBoostClassification.fit(X_trainSelectedFeatureAfterSMOTE,y_train)\n",
        "y_predictionXgBoost=XGBoostClassification.predict(X_testSelectedFeature)\n",
        "from sklearn.metrics import classification_report,confusion_matrix\n",
        "cm1=confusion_matrix(y_test,y_predictionXgBoost)\n",
        "sns.heatmap(cm1,annot=True)\n",
        "print(classification_report(y_test,y_predictionXgBoost))\n"
      ]
    },
    {
      "cell_type": "code",
      "source": [
        "y_predictionXgB_proba=XGBoostClassification.predict_proba(X_testSelectedFeature)[:,1]\n",
        "AUCXgB=metrics.roc_auc_score(y_test,y_predictionXgB_proba)\n",
        "print(\"AUC Voting: \",AUCXgB)\n",
        "\n",
        "fprXgB, tprXgB, thresholds = metrics.roc_curve(y_test,y_predictionXgB_proba)\n",
        "\n",
        "plt.plot(fprXgB,tprXgB,label=\"XgBoost ( area = \"+str(AUCXgB)+\" )\")\n",
        "plt.xlabel('False Positive Rate')\n",
        "plt.ylabel('True Positive Rate')\n",
        "plt.legend(loc=4)\n",
        "plt.show()\n"
      ],
      "metadata": {
        "id": "JIt7NkEeQEr3",
        "colab": {
          "base_uri": "https://localhost:8080/",
          "height": 296
        },
        "outputId": "a9c1fef3-1cd3-4b5b-b0cc-dcdec63a8ada"
      },
      "execution_count": 23,
      "outputs": [
        {
          "output_type": "stream",
          "name": "stdout",
          "text": [
            "AUC Voting:  0.8148148148148149\n"
          ]
        },
        {
          "output_type": "display_data",
          "data": {
            "text/plain": [
              "<Figure size 432x288 with 1 Axes>"
            ],
            "image/png": "[encoded data removed]"
          },
          "metadata": {
            "needs_background": "light"
          }
        }
      ]
    },
    {
      "cell_type": "code",
      "source": [
        "prediction=XGBoostClassification.predict(X_testSelectedFeature)\n",
        "print('Accuracy = ', metrics.accuracy_score(y_test, prediction)*100)"
      ],
      "metadata": {
        "colab": {
          "base_uri": "https://localhost:8080/"
        },
        "id": "4XyTdePDBw5n",
        "outputId": "1512c41e-c425-48f0-a2cc-18da0d21d029"
      },
      "execution_count": 30,
      "outputs": [
        {
          "output_type": "stream",
          "name": "stdout",
          "text": [
            "Accuracy =  73.33333333333333\n"
          ]
        }
      ]
    },
    {
      "cell_type": "code",
      "source": [
        "from sklearn.ensemble import BaggingClassifier\n",
        "from sklearn.neural_network import MLPClassifier\n",
        "\n",
        "base_cls = MLPClassifier(random_state=0)\n",
        "\n",
        "# no. of base classifier\n",
        "num_trees = 30\n",
        "seed = 15\n",
        "# bagging classifier\n",
        "bagClassificationMLP = BaggingClassifier(base_estimator=base_cls, n_estimators=num_trees, random_state=0)\n"
      ],
      "metadata": {
        "id": "xnuGiYFzQZNn"
      },
      "execution_count": 24,
      "outputs": []
    },
    {
      "cell_type": "code",
      "source": [
        "bagClassificationMLP.fit(X_trainSelectedFeatureAfterSMOTE, y_train)\n",
        "y_predictionBagMLP = bagClassificationMLP.predict(X_testSelectedFeature)"
      ],
      "metadata": {
        "id": "10Iu8y54Qlh4"
      },
      "execution_count": 25,
      "outputs": []
    },
    {
      "cell_type": "code",
      "source": [
        "cm1=confusion_matrix(y_test,y_predictionBagMLP)\n",
        "import seaborn as sns\n",
        "sns.heatmap(cm1,annot=True)\n",
        "print(classification_report(y_test,y_predict))"
      ],
      "metadata": {
        "colab": {
          "base_uri": "https://localhost:8080/",
          "height": 421
        },
        "id": "6U2bAMVxQxHj",
        "outputId": "ac795069-0e3b-462c-ef6e-aba99435c206"
      },
      "execution_count": 32,
      "outputs": [
        {
          "output_type": "stream",
          "name": "stdout",
          "text": [
            "              precision    recall  f1-score   support\n",
            "\n",
            "           0       0.81      0.58      0.68        36\n",
            "           1       0.69      0.87      0.77        39\n",
            "\n",
            "    accuracy                           0.73        75\n",
            "   macro avg       0.75      0.73      0.73        75\n",
            "weighted avg       0.75      0.73      0.73        75\n",
            "\n"
          ]
        },
        {
          "output_type": "display_data",
          "data": {
            "text/plain": [
              "<Figure size 432x288 with 2 Axes>"
            ],
            "image/png": "[encoded data removed]"
          },
          "metadata": {
            "needs_background": "light"
          }
        }
      ]
    },
    {
      "cell_type": "code",
      "source": [
        "y_predictionBagMLP_proba=bagClassificationMLP.predict_proba(X_testSelectedFeature)[:,1]\n",
        "AUCBAGMLP=metrics.roc_auc_score(y_test,y_predictionBagMLP_proba)\n",
        "print(\"AUC Bagging with MLP: \",AUCBAGMLP)\n",
        "\n",
        "\n",
        "fprBagMLP, tprBagMLP, thresholds = metrics.roc_curve(y_test,y_predictionBagMLP_proba)\n",
        "\n",
        "plt.plot(fprBagMLP,tprBagMLP,label=\"Bagging with MLP ( area = \"+str(AUCBAGMLP)+\" )\")\n",
        "plt.xlabel('False Positive Rate')\n",
        "plt.ylabel('True Positive Rate')\n",
        "plt.legend(loc=4)\n",
        "plt.show()"
      ],
      "metadata": {
        "colab": {
          "base_uri": "https://localhost:8080/",
          "height": 296
        },
        "id": "ed3xfmrnRAbP",
        "outputId": "6e584446-03ff-4061-c6ba-57fde9e53b17"
      },
      "execution_count": 33,
      "outputs": [
        {
          "output_type": "stream",
          "name": "stdout",
          "text": [
            "AUC Bagging with MLP:  0.8425925925925927\n"
          ]
        },
        {
          "output_type": "display_data",
          "data": {
            "text/plain": [
              "<Figure size 432x288 with 1 Axes>"
            ],
            "image/png": "[encoded data removed]"
          },
          "metadata": {
            "needs_background": "light"
          }
        }
      ]
    },
    {
      "cell_type": "code",
      "source": [
        "prediction=bagClassificationMLP.predict(X_testSelectedFeature)\n",
        "print('Accuracy = ', metrics.accuracy_score(y_test, prediction)*100)"
      ],
      "metadata": {
        "colab": {
          "base_uri": "https://localhost:8080/"
        },
        "id": "6hpJ18-qBudy",
        "outputId": "6f07f496-4309-4a03-9171-aa6885d1a21a"
      },
      "execution_count": 34,
      "outputs": [
        {
          "output_type": "stream",
          "name": "stdout",
          "text": [
            "Accuracy =  76.0\n"
          ]
        }
      ]
    }
  ]
}