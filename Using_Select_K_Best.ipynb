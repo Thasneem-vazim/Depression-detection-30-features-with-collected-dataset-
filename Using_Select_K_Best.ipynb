{
  "nbformat": 4,
  "nbformat_minor": 0,
  "metadata": {
    "colab": {
      "name": "Copy of Using Select K Best.ipynb",
      "provenance": [],
      "collapsed_sections": [],
      "authorship_tag": "ABX9TyM5GHknjlO72YxvjYHK9idV",
      "include_colab_link": true
    },
    "kernelspec": {
      "name": "python3",
      "display_name": "Python 3"
    },
    "language_info": {
      "name": "python"
    }
  },
  "cells": [
    {
      "cell_type": "markdown",
      "metadata": {
        "id": "view-in-github",
        "colab_type": "text"
      },
      "source": [
        "<a href=\"https://colab.research.google.com/github/Thasneem-vazim/Depression-detection-30-features-with-collected-dataset-/blob/main/Using_Select_K_Best.ipynb\" target=\"_parent\"><img src=\"https://colab.research.google.com/assets/colab-badge.svg\" alt=\"Open In Colab\"/></a>"
      ]
    },
    {
      "cell_type": "code",
      "execution_count": 1,
      "metadata": {
        "id": "Hp3gjynefyoi"
      },
      "outputs": [],
      "source": [
        "import numpy as np\n",
        "import pandas as pd\n",
        "import matplotlib.pyplot as plt\n",
        "import seaborn as sns\n",
        "from sklearn.model_selection import train_test_split\n",
        "from sklearn.linear_model import LogisticRegression\n",
        "from sklearn import metrics\n",
        "#%matplotlib inline\n",
        "import warnings\n",
        "warnings.filterwarnings('ignore')\n",
        "from sklearn.tree import DecisionTreeClassifier\n",
        "\n",
        "pd.set_option('display.max_rows', None)"
      ]
    },
    {
      "cell_type": "code",
      "source": [
        "depressionDataset = pd.read_csv(\"/content/binary class.csv\")\n",
        "X = depressionDataset[['AGERNG','GENDER','EDU','PROF','MARSTS','RESDPL','LIVWTH','ENVSAT','POSSAT','FINSTR','DEBT','PHYEX','SMOKE','DRINK','ILLNESS','PREMED','EATDIS','AVGSLP','INSOM','TSSN','WRKPRE','ANXI','DEPRI','ABUSED','CHEAT','THREAT','SUICIDE','INFER','CONFLICT','LOST']]\n",
        "y=depressionDataset[['DEPRESSED']]"
      ],
      "metadata": {
        "id": "_6y9aE6jgCU8"
      },
      "execution_count": 2,
      "outputs": []
    },
    {
      "cell_type": "code",
      "execution_count": 3,
      "metadata": {
        "id": "ovbxpvqH80a3"
      },
      "outputs": [],
      "source": [
        "from sklearn.preprocessing import LabelEncoder\n",
        "### label encode the categorical values and convert them to numbers\n",
        "le = LabelEncoder()\n",
        "le.fit(X['AGERNG'].astype(str))\n",
        "X['AGERNG'] = le.transform(X['AGERNG'].astype(str))\n",
        "\n",
        "le = LabelEncoder()\n",
        "le.fit(X['GENDER'].astype(str))\n",
        "X['GENDER'] = le.transform(X['GENDER'].astype(str))\n",
        "\n",
        "le = LabelEncoder()\n",
        "le.fit(X['EDU'].astype(str))\n",
        "X['EDU'] = le.transform(X['EDU'].astype(str))\n",
        "\n",
        "le = LabelEncoder()\n",
        "le.fit(X['PROF'].astype(str))\n",
        "X['PROF'] = le.transform(X['PROF'].astype(str))\n",
        "\n",
        "\n",
        "le = LabelEncoder()\n",
        "le.fit(X['MARSTS'].astype(str))\n",
        "X['MARSTS'] = le.transform(X['MARSTS'].astype(str))\n",
        "\n",
        "\n",
        "\n",
        "le = LabelEncoder()\n",
        "le.fit(X['RESDPL'].astype(str))\n",
        "X['RESDPL'] = le.transform(X['RESDPL'].astype(str))\n",
        "\n",
        "\n",
        "\n",
        "le = LabelEncoder()\n",
        "le.fit(X['LIVWTH'].astype(str))\n",
        "X['LIVWTH'] = le.transform(X['LIVWTH'].astype(str))\n",
        "\n",
        "\n",
        "\n",
        "le = LabelEncoder()\n",
        "le.fit(X['ENVSAT'].astype(str))\n",
        "X['ENVSAT'] = le.transform(X['ENVSAT'].astype(str))\n",
        "\n",
        "le = LabelEncoder()\n",
        "le.fit(X['POSSAT'].astype(str))\n",
        "X['POSSAT'] = le.transform(X['POSSAT'].astype(str))\n",
        "\n",
        "\n",
        "\n",
        "le = LabelEncoder()\n",
        "le.fit(X['FINSTR'].astype(str))\n",
        "X['FINSTR'] = le.transform(X['FINSTR'].astype(str))\n",
        "\n",
        "le = LabelEncoder()\n",
        "le.fit(X['DEBT'].astype(str))\n",
        "X['DEBT'] = le.transform(X['DEBT'].astype(str))\n",
        "\n",
        "\n",
        "\n",
        "le = LabelEncoder()\n",
        "le.fit(X['PHYEX'].astype(str))\n",
        "X['PHYEX'] = le.transform(X['PHYEX'].astype(str))\n",
        "\n",
        "\n",
        "\n",
        "\n",
        "le = LabelEncoder()\n",
        "le.fit(X['SMOKE'].astype(str))\n",
        "X['SMOKE'] = le.transform(X['SMOKE'].astype(str))\n",
        "\n",
        "\n",
        "\n",
        "le = LabelEncoder()\n",
        "le.fit(X['DRINK'].astype(str))\n",
        "X['DRINK'] = le.transform(X['DRINK'].astype(str))\n",
        "\n",
        "\n",
        "le = LabelEncoder()\n",
        "le.fit(X['ILLNESS'].astype(str))\n",
        "X['ILLNESS'] = le.transform(X['ILLNESS'].astype(str))\n",
        "\n",
        "\n",
        "\n",
        "\n",
        "le = LabelEncoder()\n",
        "le.fit(X['PREMED'].astype(str))\n",
        "X['PREMED'] = le.transform(X['PREMED'].astype(str))\n",
        "\n",
        "\n",
        "\n",
        "le = LabelEncoder()\n",
        "le.fit(X['EATDIS'].astype(str))\n",
        "X['EATDIS'] = le.transform(X['EATDIS'].astype(str))\n",
        "\n",
        "le = LabelEncoder()\n",
        "le.fit(X['AVGSLP'].astype(str))\n",
        "X['AVGSLP'] = le.transform(X['AVGSLP'].astype(str))\n",
        "\n",
        "\n",
        "\n",
        "le = LabelEncoder()\n",
        "le.fit(X['INSOM'].astype(str))\n",
        "X['INSOM'] = le.transform(X['INSOM'].astype(str))\n",
        "\n",
        "\n",
        "\n",
        "\n",
        "le = LabelEncoder()\n",
        "le.fit(X['TSSN'].astype(str))\n",
        "X['TSSN'] = le.transform(X['TSSN'].astype(str))\n",
        "\n",
        "\n",
        "\n",
        "\n",
        "le = LabelEncoder()\n",
        "le.fit(X['WRKPRE'].astype(str))\n",
        "X['WRKPRE'] = le.transform(X['WRKPRE'].astype(str))\n",
        "\n",
        "\n",
        "\n",
        "\n",
        "le = LabelEncoder()\n",
        "le.fit(X['ANXI'].astype(str))\n",
        "X['ANXI'] = le.transform(X['ANXI'].astype(str))\n",
        "\n",
        "\n",
        "\n",
        "\n",
        "le = LabelEncoder()\n",
        "le.fit(X['DEPRI'].astype(str))\n",
        "X['DEPRI'] = le.transform(X['DEPRI'].astype(str))\n",
        "\n",
        "\n",
        "\n",
        "le = LabelEncoder()\n",
        "le.fit(X['ABUSED'].astype(str))\n",
        "X['ABUSED'] = le.transform(X['ABUSED'].astype(str))\n",
        "\n",
        "\n",
        "\n",
        "\n",
        "le = LabelEncoder()\n",
        "le.fit(X['CHEAT'].astype(str))\n",
        "X['CHEAT'] = le.transform(X['CHEAT'].astype(str))\n",
        "\n",
        "\n",
        "\n",
        "le = LabelEncoder()\n",
        "le.fit(X['THREAT'].astype(str))\n",
        "X['THREAT'] = le.transform(X['THREAT'].astype(str))\n",
        "\n",
        "\n",
        "\n",
        "le = LabelEncoder()\n",
        "le.fit(X['SUICIDE'].astype(str))\n",
        "X['SUICIDE'] = le.transform(X['SUICIDE'].astype(str))\n",
        "\n",
        "\n",
        "le = LabelEncoder()\n",
        "le.fit(X['INFER'].astype(str))\n",
        "X['INFER'] = le.transform(X['INFER'].astype(str))\n",
        "\n",
        "\n",
        "le = LabelEncoder()\n",
        "le.fit(X['CONFLICT'].astype(str))\n",
        "X['CONFLICT'] = le.transform(X['CONFLICT'].astype(str))\n",
        "\n",
        "\n",
        "\n",
        "le = LabelEncoder()\n",
        "le.fit(X['LOST'].astype(str))\n",
        "X['LOST'] = le.transform(X['LOST'].astype(str))\n",
        "\n",
        "le = LabelEncoder()\n",
        "le.fit(y['DEPRESSED'].astype(str))\n",
        "y['DEPRESSED'] = le.transform(y['DEPRESSED'].astype(str))\n"
      ]
    },
    {
      "cell_type": "code",
      "source": [
        "X_train,X_test,y_train,y_test=train_test_split(X,y,test_size=0.2,random_state=0)"
      ],
      "metadata": {
        "id": "q4TJl_3j91xF"
      },
      "execution_count": 4,
      "outputs": []
    },
    {
      "cell_type": "code",
      "source": [
        "import pandas as pd\n",
        "import numpy as np\n",
        "from sklearn.feature_selection import SelectKBest\n",
        "from sklearn.feature_selection import chi2,f_classif\n",
        "\n",
        "#apply SelectKBest class to extract top 15 best features\n",
        "bestfeatures = SelectKBest(score_func=chi2, k=15)\n",
        "fit = bestfeatures.fit(X_train,y_train)\n",
        "dfscores = pd.DataFrame(fit.scores_)\n",
        "dfcolumns = pd.DataFrame(X_train.columns)\n",
        "#concat two dataframes for better visualization\n",
        "featureScores = pd.concat([dfcolumns,dfscores],axis=1)\n",
        "featureScores.columns = ['Specs','Score']  #naming the dataframe columns\n",
        "print(featureScores.nlargest(15,'Score'))  #print 15 best features"
      ],
      "metadata": {
        "colab": {
          "base_uri": "https://localhost:8080/"
        },
        "id": "ALF_Mg6PgRjk",
        "outputId": "bb223768-5d22-44e9-cd96-17c87d69fbbe"
      },
      "execution_count": 5,
      "outputs": [
        {
          "output_type": "stream",
          "name": "stdout",
          "text": [
            "       Specs      Score\n",
            "0     AGERNG  53.305897\n",
            "27     INFER  36.216931\n",
            "18     INSOM  36.166667\n",
            "21      ANXI  32.722169\n",
            "22     DEPRI  29.409722\n",
            "26   SUICIDE  28.477041\n",
            "28  CONFLICT  20.274107\n",
            "23    ABUSED  13.910401\n",
            "16    EATDIS  13.392857\n",
            "25    THREAT  12.574230\n",
            "8     POSSAT  10.929643\n",
            "20    WRKPRE   9.288602\n",
            "3       PROF   8.831139\n",
            "24     CHEAT   8.634921\n",
            "9     FINSTR   7.354592\n"
          ]
        }
      ]
    },
    {
      "cell_type": "code",
      "source": [
        "X_trainSelectedFeature=pd.DataFrame()\n",
        "\n",
        "X_trainSelectedFeature['WRKPRE']=X_train['WRKPRE']\n",
        "X_trainSelectedFeature['POSSAT']=X_train['POSSAT']\n",
        "X_trainSelectedFeature['EATDIS']=X_train['EATDIS']\n",
        "X_trainSelectedFeature['INSOM']=X_train['INSOM']\n",
        "X_trainSelectedFeature['AGERNG']=X_train['AGERNG']\n",
        "X_trainSelectedFeature['ANXI']=X_train['ANXI']\n",
        "X_trainSelectedFeature['DEPRI']=X_train['DEPRI']\n",
        "X_trainSelectedFeature['ABUSED']=X_train['ABUSED']\n",
        "X_trainSelectedFeature['CHEAT']=X_train['CHEAT']\n",
        "X_trainSelectedFeature['THREAT']=X_train['THREAT']\n",
        "X_trainSelectedFeature['SUICIDE']=X_train['SUICIDE']\n",
        "X_trainSelectedFeature['INFER']=X_train['INFER']\n",
        "X_trainSelectedFeature['CONFLICT']=X_train['CONFLICT']\n",
        "X_trainSelectedFeature['PREMED']=X_train['PREMED']\n",
        "X_trainSelectedFeature['AGERNG']=X_train['AGERNG']"
      ],
      "metadata": {
        "id": "tlQxzCoiidaH"
      },
      "execution_count": 6,
      "outputs": []
    },
    {
      "cell_type": "code",
      "source": [
        "X_trainSelectedFeature.shape"
      ],
      "metadata": {
        "colab": {
          "base_uri": "https://localhost:8080/"
        },
        "id": "m1AxqR7disSV",
        "outputId": "0f177974-e7a2-4164-b558-a4e37ff22242"
      },
      "execution_count": null,
      "outputs": [
        {
          "output_type": "execute_result",
          "data": {
            "text/plain": [
              "(299, 14)"
            ]
          },
          "metadata": {},
          "execution_count": 12
        }
      ]
    },
    {
      "cell_type": "code",
      "source": [
        "from imblearn.over_sampling import SMOTE\n",
        "smote=SMOTE('minority',random_state=0)\n",
        "X_trainSelectedFeatureAfterSMOTE,y_train=smote.fit_resample(X_trainSelectedFeature, y_train)"
      ],
      "metadata": {
        "id": "1ln7I-yfheQs"
      },
      "execution_count": 7,
      "outputs": []
    },
    {
      "cell_type": "code",
      "source": [
        "X_testSelectedFeature=pd.DataFrame()\n",
        "\n",
        "X_testSelectedFeature['WRKPRE']=X_test['WRKPRE']\n",
        "X_testSelectedFeature['POSSAT']=X_test['POSSAT']\n",
        "X_testSelectedFeature['EATDIS']=X_test['EATDIS']\n",
        "X_testSelectedFeature['INSOM']=X_test['INSOM']\n",
        "X_testSelectedFeature['AGERNG']=X_test['AGERNG']\n",
        "X_testSelectedFeature['ANXI']=X_test['ANXI']\n",
        "X_testSelectedFeature['DEPRI']=X_test['DEPRI']\n",
        "X_testSelectedFeature['ABUSED']=X_test['ABUSED']\n",
        "X_testSelectedFeature['CHEAT']=X_test['CHEAT']\n",
        "X_testSelectedFeature['THREAT']=X_test['THREAT']\n",
        "X_testSelectedFeature['SUICIDE']=X_test['SUICIDE']\n",
        "X_testSelectedFeature['INFER']=X_test['INFER']\n",
        "X_testSelectedFeature['CONFLICT']=X_test['CONFLICT']\n",
        "X_testSelectedFeature['PREMED']=X_test['PREMED']\n",
        "X_testSelectedFeature['AGERNG']=X_test['AGERNG']"
      ],
      "metadata": {
        "id": "VyO28JSGkJVb"
      },
      "execution_count": 8,
      "outputs": []
    },
    {
      "cell_type": "code",
      "source": [
        "X_testSelectedFeature.shape"
      ],
      "metadata": {
        "colab": {
          "base_uri": "https://localhost:8080/"
        },
        "id": "Q-GgMr0VBlNT",
        "outputId": "80bb66b6-32d6-41ee-f5a6-99598d568803"
      },
      "execution_count": null,
      "outputs": [
        {
          "output_type": "execute_result",
          "data": {
            "text/plain": [
              "(75, 14)"
            ]
          },
          "metadata": {},
          "execution_count": 15
        }
      ]
    },
    {
      "cell_type": "code",
      "source": [
        "from sklearn.neighbors import KNeighborsClassifier\n",
        "KNNClassification = KNeighborsClassifier(n_neighbors=7)\n",
        "KNNClassification.fit(X_trainSelectedFeatureAfterSMOTE,y_train)\n",
        "y_predictionKNN=KNNClassification.predict(X_testSelectedFeature)\n"
      ],
      "metadata": {
        "id": "93aMxLB_hjBn"
      },
      "execution_count": null,
      "outputs": []
    },
    {
      "cell_type": "code",
      "source": [
        "from sklearn.metrics import classification_report,confusion_matrix\n",
        "y_predict_test=KNNClassification.predict(X_testSelectedFeature)\n",
        "cm1=confusion_matrix(y_test,y_predict_test)\n",
        "import seaborn as sns\n",
        "sns.heatmap(cm1,annot=True)\n",
        "print(classification_report(y_test,y_predict_test))\n"
      ],
      "metadata": {
        "id": "LDSHMO5YkWxA",
        "colab": {
          "base_uri": "https://localhost:8080/",
          "height": 235
        },
        "outputId": "a724a574-27d0-464d-8967-0ea24cdabd0e"
      },
      "execution_count": 11,
      "outputs": [
        {
          "output_type": "error",
          "ename": "NameError",
          "evalue": "ignored",
          "traceback": [
            "\u001b[0;31m---------------------------------------------------------------------------\u001b[0m",
            "\u001b[0;31mNameError\u001b[0m                                 Traceback (most recent call last)",
            "\u001b[0;32m<ipython-input-11-463ce70aceb9>\u001b[0m in \u001b[0;36m<module>\u001b[0;34m()\u001b[0m\n\u001b[1;32m      1\u001b[0m \u001b[0;32mfrom\u001b[0m \u001b[0msklearn\u001b[0m\u001b[0;34m.\u001b[0m\u001b[0mmetrics\u001b[0m \u001b[0;32mimport\u001b[0m \u001b[0mclassification_report\u001b[0m\u001b[0;34m,\u001b[0m\u001b[0mconfusion_matrix\u001b[0m\u001b[0;34m\u001b[0m\u001b[0;34m\u001b[0m\u001b[0m\n\u001b[0;32m----> 2\u001b[0;31m \u001b[0my_predict_test\u001b[0m\u001b[0;34m=\u001b[0m\u001b[0mKNNClassification\u001b[0m\u001b[0;34m.\u001b[0m\u001b[0mpredict\u001b[0m\u001b[0;34m(\u001b[0m\u001b[0mX_testSelectedFeature\u001b[0m\u001b[0;34m)\u001b[0m\u001b[0;34m\u001b[0m\u001b[0;34m\u001b[0m\u001b[0m\n\u001b[0m\u001b[1;32m      3\u001b[0m \u001b[0mcm1\u001b[0m\u001b[0;34m=\u001b[0m\u001b[0mconfusion_matrix\u001b[0m\u001b[0;34m(\u001b[0m\u001b[0my_test\u001b[0m\u001b[0;34m,\u001b[0m\u001b[0my_predict_test\u001b[0m\u001b[0;34m)\u001b[0m\u001b[0;34m\u001b[0m\u001b[0;34m\u001b[0m\u001b[0m\n\u001b[1;32m      4\u001b[0m \u001b[0;32mimport\u001b[0m \u001b[0mseaborn\u001b[0m \u001b[0;32mas\u001b[0m \u001b[0msns\u001b[0m\u001b[0;34m\u001b[0m\u001b[0;34m\u001b[0m\u001b[0m\n\u001b[1;32m      5\u001b[0m \u001b[0msns\u001b[0m\u001b[0;34m.\u001b[0m\u001b[0mheatmap\u001b[0m\u001b[0;34m(\u001b[0m\u001b[0mcm1\u001b[0m\u001b[0;34m,\u001b[0m\u001b[0mannot\u001b[0m\u001b[0;34m=\u001b[0m\u001b[0;32mTrue\u001b[0m\u001b[0;34m)\u001b[0m\u001b[0;34m\u001b[0m\u001b[0;34m\u001b[0m\u001b[0m\n",
            "\u001b[0;31mNameError\u001b[0m: name 'KNNClassification' is not defined"
          ]
        }
      ]
    },
    {
      "cell_type": "code",
      "source": [
        "y_predictionKNN_proba=KNNClassification.predict_proba(X_testSelectedFeature)[:,1]\n",
        "AUCKNN=metrics.roc_auc_score(y_test,y_predictionKNN_proba)\n",
        "print(\"AUC KNN: \",AUCKNN)\n",
        "fprKNN, tprKNN, thresholds = metrics.roc_curve(y_test,y_predictionKNN_proba)\n",
        "\n",
        "plt.plot(fprKNN,tprKNN,label=\"KNN ( area = \"+str(AUCKNN)+\" )\")\n",
        "plt.xlabel('False Positive Rate')\n",
        "plt.ylabel('True Positive Rate')\n",
        "plt.legend(loc=4)\n",
        "plt.show()"
      ],
      "metadata": {
        "id": "cv9uP8CqkwvR",
        "colab": {
          "base_uri": "https://localhost:8080/",
          "height": 296
        },
        "outputId": "202bde16-1e15-41e3-dee1-84375b28e6ea"
      },
      "execution_count": null,
      "outputs": [
        {
          "output_type": "stream",
          "name": "stdout",
          "text": [
            "AUC KNN:  0.6663105413105413\n"
          ]
        },
        {
          "output_type": "display_data",
          "data": {
            "text/plain": [
              "<Figure size 432x288 with 1 Axes>"
            ],
            "image/png": "[encoded data removed]"
          },
          "metadata": {
            "needs_background": "light"
          }
        }
      ]
    },
    {
      "cell_type": "code",
      "source": [
        "prediction=KNNClassification.predict(X_testSelectedFeature)\n",
        "print('Accuracy = ', metrics.accuracy_score(y_test, prediction)*100)"
      ],
      "metadata": {
        "id": "vUQvgis4AKMc",
        "colab": {
          "base_uri": "https://localhost:8080/"
        },
        "outputId": "118a5475-e34e-4792-cca2-788184feaae2"
      },
      "execution_count": null,
      "outputs": [
        {
          "output_type": "stream",
          "name": "stdout",
          "text": [
            "Accuracy =  65.33333333333333\n"
          ]
        }
      ]
    },
    {
      "cell_type": "code",
      "source": [
        ""
      ],
      "metadata": {
        "id": "tUMExGSclJwf"
      },
      "execution_count": null,
      "outputs": []
    },
    {
      "cell_type": "code",
      "source": [
        "from sklearn.ensemble import AdaBoostClassifier\n",
        "ADABoostClassification=AdaBoostClassifier()\n",
        "ADABoostClassification.fit(X_trainSelectedFeatureAfterSMOTE,y_train)"
      ],
      "metadata": {
        "id": "GYJ-4AQmkw9C",
        "colab": {
          "base_uri": "https://localhost:8080/"
        },
        "outputId": "8a58728a-1cb7-4def-e3b4-28d09797210f"
      },
      "execution_count": null,
      "outputs": [
        {
          "output_type": "execute_result",
          "data": {
            "text/plain": [
              "AdaBoostClassifier()"
            ]
          },
          "metadata": {},
          "execution_count": 20
        }
      ]
    },
    {
      "cell_type": "code",
      "source": [
        "y_predictionADABoost=ADABoostClassification.predict(X_testSelectedFeature)"
      ],
      "metadata": {
        "id": "agI6CmGBk_Ir"
      },
      "execution_count": null,
      "outputs": []
    },
    {
      "cell_type": "code",
      "source": [
        "from sklearn.metrics import classification_report,confusion_matrix\n",
        "y_predict_test=ADABoostClassification.predict(X_testSelectedFeature)\n",
        "cm1=confusion_matrix(y_test,y_predict_test)\n",
        "import seaborn as sns\n",
        "sns.heatmap(cm1,annot=True)\n",
        "print(classification_report(y_test,y_predict_test))\n"
      ],
      "metadata": {
        "id": "snFr5AnxlEz-",
        "colab": {
          "base_uri": "https://localhost:8080/",
          "height": 421
        },
        "outputId": "3e929ff7-0f27-4ae5-b5a1-47c66c45eba6"
      },
      "execution_count": null,
      "outputs": [
        {
          "output_type": "stream",
          "name": "stdout",
          "text": [
            "              precision    recall  f1-score   support\n",
            "\n",
            "           0       0.76      0.61      0.68        36\n",
            "           1       0.70      0.82      0.75        39\n",
            "\n",
            "    accuracy                           0.72        75\n",
            "   macro avg       0.73      0.72      0.71        75\n",
            "weighted avg       0.73      0.72      0.72        75\n",
            "\n"
          ]
        },
        {
          "output_type": "display_data",
          "data": {
            "text/plain": [
              "<Figure size 432x288 with 2 Axes>"
            ],
            "image/png": "[encoded data removed]"
          },
          "metadata": {
            "needs_background": "light"
          }
        }
      ]
    },
    {
      "cell_type": "code",
      "source": [
        "y_predictionKNN_proba=ADABoostClassification.predict_proba(X_testSelectedFeature)[:,1]\n",
        "AUCKNN=metrics.roc_auc_score(y_test,y_predictionKNN_proba)\n",
        "print(\"AUC : \",AUCKNN)\n",
        "fprAda, tprAda, thresholds = metrics.roc_curve(y_test,y_predictionKNN_proba)\n",
        "\n",
        "plt.plot(fprAda,tprAda,label=\"( area = \"+str(AUCKNN)+\" )\")\n",
        "plt.xlabel('False Positive Rate')\n",
        "plt.ylabel('True Positive Rate')\n",
        "plt.legend(loc=4)\n",
        "plt.show()"
      ],
      "metadata": {
        "id": "GC60qrPVlKqq",
        "colab": {
          "base_uri": "https://localhost:8080/",
          "height": 296
        },
        "outputId": "7302cbe7-ab7c-4d0b-85b8-441942aeb4eb"
      },
      "execution_count": null,
      "outputs": [
        {
          "output_type": "stream",
          "name": "stdout",
          "text": [
            "AUC :  0.7653133903133904\n"
          ]
        },
        {
          "output_type": "display_data",
          "data": {
            "text/plain": [
              "<Figure size 432x288 with 1 Axes>"
            ],
            "image/png": "[encoded data removed]"
          },
          "metadata": {
            "needs_background": "light"
          }
        }
      ]
    },
    {
      "cell_type": "code",
      "source": [
        "prediction=ADABoostClassification.predict(X_testSelectedFeature)\n",
        "print('Accuracy = ', metrics.accuracy_score(y_test, prediction)*100)"
      ],
      "metadata": {
        "id": "l3jJhZzWsrsB",
        "colab": {
          "base_uri": "https://localhost:8080/"
        },
        "outputId": "e008638a-1e3b-4038-f650-8bfe83c302fe"
      },
      "execution_count": null,
      "outputs": [
        {
          "output_type": "stream",
          "name": "stdout",
          "text": [
            "Accuracy =  72.0\n"
          ]
        }
      ]
    },
    {
      "cell_type": "code",
      "source": [
        "from sklearn.ensemble import GradientBoostingClassifier\n",
        "GradeintBoostClassification = GradientBoostingClassifier(loss='deviance',max_features=1,random_state=0,max_leaf_nodes=None)\n",
        "GradeintBoostClassification.fit(X_trainSelectedFeatureAfterSMOTE,y_train)\n",
        "y_predictionGradient=GradeintBoostClassification.predict(X_testSelectedFeature)"
      ],
      "metadata": {
        "id": "dpKxb7xrlXPN"
      },
      "execution_count": null,
      "outputs": []
    },
    {
      "cell_type": "code",
      "source": [
        "from sklearn.metrics import classification_report,confusion_matrix\n",
        "y_predict_test=GradeintBoostClassification.predict(X_testSelectedFeature)\n",
        "cm1=confusion_matrix(y_test,y_predict_test)\n",
        "import seaborn as sns\n",
        "sns.heatmap(cm1,annot=True)\n",
        "print(classification_report(y_test,y_predict_test))"
      ],
      "metadata": {
        "id": "L-KxvCi6lpoz",
        "colab": {
          "base_uri": "https://localhost:8080/",
          "height": 421
        },
        "outputId": "e6b4592e-da81-4cf9-c804-15df55041efa"
      },
      "execution_count": null,
      "outputs": [
        {
          "output_type": "stream",
          "name": "stdout",
          "text": [
            "              precision    recall  f1-score   support\n",
            "\n",
            "           0       0.74      0.56      0.63        36\n",
            "           1       0.67      0.82      0.74        39\n",
            "\n",
            "    accuracy                           0.69        75\n",
            "   macro avg       0.70      0.69      0.69        75\n",
            "weighted avg       0.70      0.69      0.69        75\n",
            "\n"
          ]
        },
        {
          "output_type": "display_data",
          "data": {
            "text/plain": [
              "<Figure size 432x288 with 2 Axes>"
            ],
            "image/png": "[encoded data removed]"
          },
          "metadata": {
            "needs_background": "light"
          }
        }
      ]
    },
    {
      "cell_type": "code",
      "source": [
        "y_predictionKNN_proba=GradeintBoostClassification.predict_proba(X_testSelectedFeature)[:,1]\n",
        "AUCKNN=metrics.roc_auc_score(y_test,y_predictionKNN_proba)\n",
        "print(\"AUC: \",AUCKNN)\n",
        "fprGradientBoost, tprGradientBoost, thresholds = metrics.roc_curve(y_test,y_predictionKNN_proba)\n",
        "\n",
        "plt.plot(fprGradientBoost,tprGradientBoost,label=\"( area = \"+str(AUCKNN)+\" )\")\n",
        "plt.xlabel('False Positive Rate')\n",
        "plt.ylabel('True Positive Rate')\n",
        "plt.legend(loc=4)\n",
        "plt.show()"
      ],
      "metadata": {
        "id": "_iMcih9mlyB6",
        "colab": {
          "base_uri": "https://localhost:8080/",
          "height": 296
        },
        "outputId": "e1029535-4e12-4103-9cab-f7bfe087cc7e"
      },
      "execution_count": null,
      "outputs": [
        {
          "output_type": "stream",
          "name": "stdout",
          "text": [
            "AUC:  0.7930911680911681\n"
          ]
        },
        {
          "output_type": "display_data",
          "data": {
            "text/plain": [
              "<Figure size 432x288 with 1 Axes>"
            ],
            "image/png": "[encoded data removed]"
          },
          "metadata": {
            "needs_background": "light"
          }
        }
      ]
    },
    {
      "cell_type": "code",
      "source": [
        "prediction=GradeintBoostClassification.predict(X_testSelectedFeature)\n",
        "print('Accuracy = ', metrics.accuracy_score(y_test, prediction)*100)"
      ],
      "metadata": {
        "id": "YXmHVR2fs5tp",
        "colab": {
          "base_uri": "https://localhost:8080/"
        },
        "outputId": "efa80e6d-9031-4bbd-c53a-7c45bc131286"
      },
      "execution_count": null,
      "outputs": [
        {
          "output_type": "stream",
          "name": "stdout",
          "text": [
            "Accuracy =  69.33333333333334\n"
          ]
        }
      ]
    },
    {
      "cell_type": "code",
      "execution_count": 12,
      "metadata": {
        "id": "5rlZEUNUX2ea",
        "colab": {
          "base_uri": "https://localhost:8080/",
          "height": 421
        },
        "outputId": "3a83ca9a-da0e-480c-bdae-301e2c06f0b3"
      },
      "outputs": [
        {
          "output_type": "stream",
          "name": "stdout",
          "text": [
            "              precision    recall  f1-score   support\n",
            "\n",
            "           0       0.71      0.69      0.70        36\n",
            "           1       0.72      0.74      0.73        39\n",
            "\n",
            "    accuracy                           0.72        75\n",
            "   macro avg       0.72      0.72      0.72        75\n",
            "weighted avg       0.72      0.72      0.72        75\n",
            "\n"
          ]
        },
        {
          "output_type": "display_data",
          "data": {
            "text/plain": [
              "<Figure size 432x288 with 2 Axes>"
            ],
            "image/png": "[encoded data removed]"
          },
          "metadata": {
            "needs_background": "light"
          }
        }
      ],
      "source": [
        "from xgboost import XGBClassifier\n",
        "import xgboost as xgb\n",
        "params = {\n",
        " 'objective':'binary:logitraw',\n",
        " 'max_depth': 2, 'min_child_weight': 2, 'gamma': 0.3, 'subsample': 0.6,\n",
        " 'colsample_bytree': 0.6, 'scale_pos_weight': 1,\n",
        " 'alpha': 0.01,\n",
        " 'learning_rate': 0.03,\n",
        " 'n_estimators':1000,'seed': 42\n",
        " }\n",
        "xgb_clf = XGBClassifier(**params)\n",
        "xgb_clf.fit(X_trainSelectedFeatureAfterSMOTE,y_train)\n",
        "\n",
        "yxg_pred=xgb_clf.predict(X_testSelectedFeature)\n",
        "cm4=confusion_matrix(y_test,yxg_pred)\n",
        "sns.heatmap(cm4,annot=True)\n",
        "print(classification_report(y_test,yxg_pred))"
      ]
    },
    {
      "cell_type": "code",
      "source": [
        "y_predictionXgBoost=xgb_clf.predict(X_testSelectedFeature)"
      ],
      "metadata": {
        "id": "QISvXtEdx3AN"
      },
      "execution_count": 13,
      "outputs": []
    },
    {
      "cell_type": "code",
      "source": [
        "y_predictionKNN_proba=xgb_clf.predict_proba(X_testSelectedFeature)[:,1]\n",
        "AUCKNN=metrics.roc_auc_score(y_test,y_predictionKNN_proba)\n",
        "print(\"AUC: \",AUCKNN)\n",
        "fprXgB, tprXgB, thresholds = metrics.roc_curve(y_test,y_predictionKNN_proba)\n",
        "\n",
        "plt.plot(fprXgB,tprXgB,label=\"( area = \"+str(AUCKNN)+\" )\")\n",
        "plt.xlabel('False Positive Rate')\n",
        "plt.ylabel('True Positive Rate')\n",
        "plt.legend(loc=4)\n",
        "plt.show()"
      ],
      "metadata": {
        "id": "QSmthl9pOtbv",
        "colab": {
          "base_uri": "https://localhost:8080/",
          "height": 296
        },
        "outputId": "c513dda3-0145-4398-9423-4e87c941cdb3"
      },
      "execution_count": 15,
      "outputs": [
        {
          "output_type": "stream",
          "name": "stdout",
          "text": [
            "AUC:  0.7599715099715099\n"
          ]
        },
        {
          "output_type": "display_data",
          "data": {
            "text/plain": [
              "<Figure size 432x288 with 1 Axes>"
            ],
            "image/png": "[encoded data removed]"
          },
          "metadata": {
            "needs_background": "light"
          }
        }
      ]
    },
    {
      "cell_type": "code",
      "source": [
        "prediction=xgb_clf.predict(X_testSelectedFeature)\n",
        "print('Accuracy = ', metrics.accuracy_score(y_test, prediction)*100)"
      ],
      "metadata": {
        "id": "t6oi2h8jtfGw",
        "colab": {
          "base_uri": "https://localhost:8080/"
        },
        "outputId": "90414224-045c-47bd-ad52-31762dd982e5"
      },
      "execution_count": 14,
      "outputs": [
        {
          "output_type": "stream",
          "name": "stdout",
          "text": [
            "Accuracy =  72.0\n"
          ]
        }
      ]
    },
    {
      "cell_type": "code",
      "source": [
        "from sklearn.ensemble import BaggingClassifier\n",
        "from sklearn.neural_network import MLPClassifier\n",
        "\n",
        "base_cls = MLPClassifier(random_state=0)\n",
        "num_trees = 30\n",
        "seed = 15\n",
        "# bagging classifier\n",
        "bagClassificationMLP = BaggingClassifier(base_estimator=base_cls, n_estimators=num_trees, random_state=0)\n",
        "bagClassificationMLP.fit(X_trainSelectedFeatureAfterSMOTE, y_train)\n",
        "y_predictionBagMLP = bagClassificationMLP.predict(X_testSelectedFeature)\n"
      ],
      "metadata": {
        "id": "iL91oPzSPV4B"
      },
      "execution_count": null,
      "outputs": []
    },
    {
      "cell_type": "code",
      "source": [
        "from sklearn.metrics import classification_report,confusion_matrix\n",
        "y_predict_test=bagClassificationMLP.predict(X_testSelectedFeature)\n",
        "cm1=confusion_matrix(y_test,y_predict_test)\n",
        "import seaborn as sns\n",
        "sns.heatmap(cm1,annot=True)\n",
        "print(classification_report(y_test,y_predict_test))"
      ],
      "metadata": {
        "id": "02F1BQCiPydM",
        "colab": {
          "base_uri": "https://localhost:8080/",
          "height": 421
        },
        "outputId": "337188bc-7647-4c3c-b315-096c428566a1"
      },
      "execution_count": null,
      "outputs": [
        {
          "output_type": "stream",
          "name": "stdout",
          "text": [
            "              precision    recall  f1-score   support\n",
            "\n",
            "           0       0.77      0.64      0.70        36\n",
            "           1       0.71      0.82      0.76        39\n",
            "\n",
            "    accuracy                           0.73        75\n",
            "   macro avg       0.74      0.73      0.73        75\n",
            "weighted avg       0.74      0.73      0.73        75\n",
            "\n"
          ]
        },
        {
          "output_type": "display_data",
          "data": {
            "text/plain": [
              "<Figure size 432x288 with 2 Axes>"
            ],
            "image/png": "[encoded data removed]"
          },
          "metadata": {
            "needs_background": "light"
          }
        }
      ]
    },
    {
      "cell_type": "code",
      "source": [
        "y_predictionKNN_proba=bagClassificationMLP.predict_proba(X_testSelectedFeature)[:,1]\n",
        "AUCKNN=metrics.roc_auc_score(y_test,y_predictionKNN_proba)\n",
        "print(\"AUC: \",AUCKNN)\n",
        "fprBagMLP, tprBagMLP, thresholds = metrics.roc_curve(y_test,y_predictionKNN_proba)\n",
        "\n",
        "plt.plot(fprBagMLP,tprBagMLP,label=\"( area = \"+str(AUCKNN)+\" )\")\n",
        "plt.xlabel('False Positive Rate')\n",
        "plt.ylabel('True Positive Rate')\n",
        "plt.legend(loc=4)\n",
        "plt.show()"
      ],
      "metadata": {
        "id": "9L2ro0tEP2qu",
        "colab": {
          "base_uri": "https://localhost:8080/",
          "height": 296
        },
        "outputId": "dcd4b0f9-a4e0-4e44-9fad-afc2b9012132"
      },
      "execution_count": null,
      "outputs": [
        {
          "output_type": "stream",
          "name": "stdout",
          "text": [
            "AUC:  0.8012820512820513\n"
          ]
        },
        {
          "output_type": "display_data",
          "data": {
            "text/plain": [
              "<Figure size 432x288 with 1 Axes>"
            ],
            "image/png": "[encoded data removed]"
          },
          "metadata": {
            "needs_background": "light"
          }
        }
      ]
    },
    {
      "cell_type": "code",
      "source": [
        "prediction=bagClassificationMLP.predict(X_testSelectedFeature)\n",
        "print('Accuracy = ', metrics.accuracy_score(y_test, prediction)*100)"
      ],
      "metadata": {
        "id": "CEoHemSDtqgc",
        "colab": {
          "base_uri": "https://localhost:8080/"
        },
        "outputId": "940d7335-ab5f-430e-f730-b42ca5194ac6"
      },
      "execution_count": null,
      "outputs": [
        {
          "output_type": "stream",
          "name": "stdout",
          "text": [
            "Accuracy =  73.33333333333333\n"
          ]
        }
      ]
    },
    {
      "cell_type": "code",
      "source": [
        "from sklearn.svm import SVC\n",
        "SVM=SVC()\n",
        "SVM.fit(X_trainSelectedFeatureAfterSMOTE,y_train)\n"
      ],
      "metadata": {
        "id": "ZhtYF6qswzHG",
        "colab": {
          "base_uri": "https://localhost:8080/"
        },
        "outputId": "85c0dcdc-9b3e-4b92-b3e6-54d38dd84c4f"
      },
      "execution_count": null,
      "outputs": [
        {
          "output_type": "execute_result",
          "data": {
            "text/plain": [
              "SVC()"
            ]
          },
          "metadata": {},
          "execution_count": 38
        }
      ]
    },
    {
      "cell_type": "code",
      "source": [
        "y_prediction = SVM.predict(X_testSelectedFeature)\n",
        "from sklearn.metrics import classification_report,confusion_matrix\n",
        "cm1=confusion_matrix(y_test,y_prediction)\n",
        "import seaborn as sns\n",
        "sns.heatmap(cm1,annot=True)\n",
        "print(classification_report(y_test,y_prediction))"
      ],
      "metadata": {
        "id": "_vU9zDS4xHou",
        "colab": {
          "base_uri": "https://localhost:8080/",
          "height": 425
        },
        "outputId": "41b65b93-071a-40e5-b5c3-b68f9cf0d7fa"
      },
      "execution_count": null,
      "outputs": [
        {
          "output_type": "stream",
          "name": "stdout",
          "text": [
            "              precision    recall  f1-score   support\n",
            "\n",
            "           0       0.69      0.69      0.69        36\n",
            "           1       0.72      0.72      0.72        39\n",
            "\n",
            "    accuracy                           0.71        75\n",
            "   macro avg       0.71      0.71      0.71        75\n",
            "weighted avg       0.71      0.71      0.71        75\n",
            "\n"
          ]
        },
        {
          "output_type": "display_data",
          "data": {
            "text/plain": [
              "<Figure size 432x288 with 2 Axes>"
            ],
            "image/png": "[encoded data removed]"
          },
          "metadata": {
            "needs_background": "light"
          }
        }
      ]
    },
    {
      "cell_type": "code",
      "source": [
        "prediction=SVM.predict(X_testSelectedFeature)\n",
        "print('Accuracy = ', metrics.accuracy_score(y_test, prediction)*100)"
      ],
      "metadata": {
        "id": "sVckgRVLr8YX",
        "colab": {
          "base_uri": "https://localhost:8080/"
        },
        "outputId": "039337c2-cffc-4f4d-f39c-b719ddf92a4b"
      },
      "execution_count": null,
      "outputs": [
        {
          "output_type": "stream",
          "name": "stdout",
          "text": [
            "Accuracy =  70.66666666666667\n"
          ]
        }
      ]
    },
    {
      "cell_type": "code",
      "source": [
        "y_predictionKNN_proba=SVM.predict_proba(X_testSelectedFeature)[:,1]\n",
        "AUCKNN=metrics.roc_auc_score(y_test,y_predictionKNN_proba)\n",
        "print(\"AUC: \",AUCKNN)\n",
        "fprKNN, tprKNN, thresholds = metrics.roc_curve(y_test,y_predictionKNN_proba)\n",
        "\n",
        "plt.plot(fprKNN,tprKNN,label=\"( area = \"+str(AUCKNN)+\" )\")\n",
        "plt.xlabel('False Positive Rate')\n",
        "plt.ylabel('True Positive Rate')\n",
        "plt.legend(loc=4)\n",
        "plt.show()"
      ],
      "metadata": {
        "id": "uVXnElhJsDj9",
        "colab": {
          "base_uri": "https://localhost:8080/",
          "height": 380
        },
        "outputId": "b4a0cef4-fafe-4131-8bfe-0690c07d43e4"
      },
      "execution_count": null,
      "outputs": [
        {
          "output_type": "error",
          "ename": "AttributeError",
          "evalue": "ignored",
          "traceback": [
            "\u001b[0;31m---------------------------------------------------------------------------\u001b[0m",
            "\u001b[0;31mAttributeError\u001b[0m                            Traceback (most recent call last)",
            "\u001b[0;32m<ipython-input-41-be45df450609>\u001b[0m in \u001b[0;36m<module>\u001b[0;34m()\u001b[0m\n\u001b[0;32m----> 1\u001b[0;31m \u001b[0my_predictionKNN_proba\u001b[0m\u001b[0;34m=\u001b[0m\u001b[0mSVM\u001b[0m\u001b[0;34m.\u001b[0m\u001b[0mpredict_proba\u001b[0m\u001b[0;34m(\u001b[0m\u001b[0mX_testSelectedFeature\u001b[0m\u001b[0;34m)\u001b[0m\u001b[0;34m[\u001b[0m\u001b[0;34m:\u001b[0m\u001b[0;34m,\u001b[0m\u001b[0;36m1\u001b[0m\u001b[0;34m]\u001b[0m\u001b[0;34m\u001b[0m\u001b[0;34m\u001b[0m\u001b[0m\n\u001b[0m\u001b[1;32m      2\u001b[0m \u001b[0mAUCKNN\u001b[0m\u001b[0;34m=\u001b[0m\u001b[0mmetrics\u001b[0m\u001b[0;34m.\u001b[0m\u001b[0mroc_auc_score\u001b[0m\u001b[0;34m(\u001b[0m\u001b[0my_test\u001b[0m\u001b[0;34m,\u001b[0m\u001b[0my_predictionKNN_proba\u001b[0m\u001b[0;34m)\u001b[0m\u001b[0;34m\u001b[0m\u001b[0;34m\u001b[0m\u001b[0m\n\u001b[1;32m      3\u001b[0m \u001b[0mprint\u001b[0m\u001b[0;34m(\u001b[0m\u001b[0;34m\"AUC: \"\u001b[0m\u001b[0;34m,\u001b[0m\u001b[0mAUCKNN\u001b[0m\u001b[0;34m)\u001b[0m\u001b[0;34m\u001b[0m\u001b[0;34m\u001b[0m\u001b[0m\n\u001b[1;32m      4\u001b[0m \u001b[0mfprKNN\u001b[0m\u001b[0;34m,\u001b[0m \u001b[0mtprKNN\u001b[0m\u001b[0;34m,\u001b[0m \u001b[0mthresholds\u001b[0m \u001b[0;34m=\u001b[0m \u001b[0mmetrics\u001b[0m\u001b[0;34m.\u001b[0m\u001b[0mroc_curve\u001b[0m\u001b[0;34m(\u001b[0m\u001b[0my_test\u001b[0m\u001b[0;34m,\u001b[0m\u001b[0my_predictionKNN_proba\u001b[0m\u001b[0;34m)\u001b[0m\u001b[0;34m\u001b[0m\u001b[0;34m\u001b[0m\u001b[0m\n\u001b[1;32m      5\u001b[0m \u001b[0;34m\u001b[0m\u001b[0m\n",
            "\u001b[0;32m/usr/local/lib/python3.7/dist-packages/sklearn/utils/metaestimators.py\u001b[0m in \u001b[0;36m__get__\u001b[0;34m(self, obj, owner)\u001b[0m\n\u001b[1;32m    107\u001b[0m             \u001b[0;31m# delegate only on instances, not the classes.\u001b[0m\u001b[0;34m\u001b[0m\u001b[0;34m\u001b[0m\u001b[0;34m\u001b[0m\u001b[0m\n\u001b[1;32m    108\u001b[0m             \u001b[0;31m# this is to allow access to the docstrings.\u001b[0m\u001b[0;34m\u001b[0m\u001b[0;34m\u001b[0m\u001b[0;34m\u001b[0m\u001b[0m\n\u001b[0;32m--> 109\u001b[0;31m             \u001b[0;32mif\u001b[0m \u001b[0;32mnot\u001b[0m \u001b[0mself\u001b[0m\u001b[0;34m.\u001b[0m\u001b[0mcheck\u001b[0m\u001b[0;34m(\u001b[0m\u001b[0mobj\u001b[0m\u001b[0;34m)\u001b[0m\u001b[0;34m:\u001b[0m\u001b[0;34m\u001b[0m\u001b[0;34m\u001b[0m\u001b[0m\n\u001b[0m\u001b[1;32m    110\u001b[0m                 \u001b[0;32mraise\u001b[0m \u001b[0mattr_err\u001b[0m\u001b[0;34m\u001b[0m\u001b[0;34m\u001b[0m\u001b[0m\n\u001b[1;32m    111\u001b[0m \u001b[0;34m\u001b[0m\u001b[0m\n",
            "\u001b[0;32m/usr/local/lib/python3.7/dist-packages/sklearn/svm/_base.py\u001b[0m in \u001b[0;36m_check_proba\u001b[0;34m(self)\u001b[0m\n\u001b[1;32m    799\u001b[0m         \u001b[0;32mif\u001b[0m \u001b[0;32mnot\u001b[0m \u001b[0mself\u001b[0m\u001b[0;34m.\u001b[0m\u001b[0mprobability\u001b[0m\u001b[0;34m:\u001b[0m\u001b[0;34m\u001b[0m\u001b[0;34m\u001b[0m\u001b[0m\n\u001b[1;32m    800\u001b[0m             raise AttributeError(\n\u001b[0;32m--> 801\u001b[0;31m                 \u001b[0;34m\"predict_proba is not available when  probability=False\"\u001b[0m\u001b[0;34m\u001b[0m\u001b[0;34m\u001b[0m\u001b[0m\n\u001b[0m\u001b[1;32m    802\u001b[0m             )\n\u001b[1;32m    803\u001b[0m         \u001b[0;32mif\u001b[0m \u001b[0mself\u001b[0m\u001b[0;34m.\u001b[0m\u001b[0m_impl\u001b[0m \u001b[0;32mnot\u001b[0m \u001b[0;32min\u001b[0m \u001b[0;34m(\u001b[0m\u001b[0;34m\"c_svc\"\u001b[0m\u001b[0;34m,\u001b[0m \u001b[0;34m\"nu_svc\"\u001b[0m\u001b[0;34m)\u001b[0m\u001b[0;34m:\u001b[0m\u001b[0;34m\u001b[0m\u001b[0;34m\u001b[0m\u001b[0m\n",
            "\u001b[0;31mAttributeError\u001b[0m: predict_proba is not available when  probability=False"
          ]
        }
      ]
    },
    {
      "cell_type": "code",
      "source": [
        "from sklearn.tree import DecisionTreeClassifier\n",
        "DT=DecisionTreeClassifier()\n",
        "DT=DT.fit(X_trainSelectedFeatureAfterSMOTE,y_train)\n",
        "y4_predict_test=DT.predict(X_testSelectedFeature)\n",
        "cm4=confusion_matrix(y_test,y4_predict_test)\n",
        "sns.heatmap(cm4,annot=True)\n",
        "sns.heatmap(cm1,annot=True)\n",
        "print(classification_report(y_test,y4_predict_test))"
      ],
      "metadata": {
        "id": "TAsXG4neshA0",
        "colab": {
          "base_uri": "https://localhost:8080/",
          "height": 425
        },
        "outputId": "c4758f70-0960-4775-b23c-29b7b6b33d28"
      },
      "execution_count": null,
      "outputs": [
        {
          "output_type": "stream",
          "name": "stdout",
          "text": [
            "              precision    recall  f1-score   support\n",
            "\n",
            "           0       0.68      0.64      0.66        36\n",
            "           1       0.68      0.72      0.70        39\n",
            "\n",
            "    accuracy                           0.68        75\n",
            "   macro avg       0.68      0.68      0.68        75\n",
            "weighted avg       0.68      0.68      0.68        75\n",
            "\n"
          ]
        },
        {
          "output_type": "display_data",
          "data": {
            "text/plain": [
              "<Figure size 432x288 with 3 Axes>"
            ],
            "image/png": "[encoded data removed]"
          },
          "metadata": {
            "needs_background": "light"
          }
        }
      ]
    },
    {
      "cell_type": "code",
      "source": [
        "y_predictionKNN_proba=DT.predict_proba(X_testSelectedFeature)[:,1]\n",
        "AUCKNN=metrics.roc_auc_score(y_test,y_predictionKNN_proba)\n",
        "print(\"AUC: \",AUCKNN)\n",
        "fprKNN, tprKNN, thresholds = metrics.roc_curve(y_test,y_predictionKNN_proba)\n",
        "\n",
        "plt.plot(fprKNN,tprKNN,label=\"( area = \"+str(AUCKNN)+\" )\")\n",
        "plt.xlabel('False Positive Rate')\n",
        "plt.ylabel('True Positive Rate')\n",
        "plt.legend(loc=4)\n",
        "plt.show()"
      ],
      "metadata": {
        "id": "EZ2ezyr61j2V",
        "colab": {
          "base_uri": "https://localhost:8080/",
          "height": 296
        },
        "outputId": "d156cc39-c7ed-4577-95c7-a1ec7995fd1d"
      },
      "execution_count": null,
      "outputs": [
        {
          "output_type": "stream",
          "name": "stdout",
          "text": [
            "AUC:  0.65491452991453\n"
          ]
        },
        {
          "output_type": "display_data",
          "data": {
            "text/plain": [
              "<Figure size 432x288 with 1 Axes>"
            ],
            "image/png": "[encoded data removed]"
          },
          "metadata": {
            "needs_background": "light"
          }
        }
      ]
    },
    {
      "cell_type": "code",
      "source": [
        "prediction=DT.predict(X_testSelectedFeature)\n",
        "print('Accuracy = ', metrics.accuracy_score(y_test, y4_predict_test)*100)"
      ],
      "metadata": {
        "id": "z6O8-fROtGW6",
        "colab": {
          "base_uri": "https://localhost:8080/"
        },
        "outputId": "913b7953-3f56-4e93-8bf4-b70bf6e690d7"
      },
      "execution_count": null,
      "outputs": [
        {
          "output_type": "stream",
          "name": "stdout",
          "text": [
            "Accuracy =  68.0\n"
          ]
        }
      ]
    },
    {
      "cell_type": "code",
      "source": [
        "from sklearn.naive_bayes import BernoulliNB\n",
        "BNBmodel = BernoulliNB()\n",
        "BNBmodel.fit(X_trainSelectedFeatureAfterSMOTE, y_train)"
      ],
      "metadata": {
        "id": "aF0I9PActfeD",
        "colab": {
          "base_uri": "https://localhost:8080/"
        },
        "outputId": "f005dfae-5232-4614-d475-ef501cec9c89"
      },
      "execution_count": null,
      "outputs": [
        {
          "output_type": "execute_result",
          "data": {
            "text/plain": [
              "BernoulliNB()"
            ]
          },
          "metadata": {},
          "execution_count": 45
        }
      ]
    },
    {
      "cell_type": "code",
      "source": [
        "y3_predict_test=BNBmodel.predict(X_testSelectedFeature)\n",
        "cm1=confusion_matrix(y_test,y3_predict_test)\n",
        "sns.heatmap(cm1,annot=True)\n",
        "print(classification_report(y_test,y3_predict_test))"
      ],
      "metadata": {
        "id": "Bykj_5fstnGx",
        "colab": {
          "base_uri": "https://localhost:8080/",
          "height": 421
        },
        "outputId": "f7e0077c-cd9b-44b1-fe6c-284b9a7e1fa3"
      },
      "execution_count": null,
      "outputs": [
        {
          "output_type": "stream",
          "name": "stdout",
          "text": [
            "              precision    recall  f1-score   support\n",
            "\n",
            "           0       0.77      0.56      0.65        36\n",
            "           1       0.67      0.85      0.75        39\n",
            "\n",
            "    accuracy                           0.71        75\n",
            "   macro avg       0.72      0.70      0.70        75\n",
            "weighted avg       0.72      0.71      0.70        75\n",
            "\n"
          ]
        },
        {
          "output_type": "display_data",
          "data": {
            "text/plain": [
              "<Figure size 432x288 with 2 Axes>"
            ],
            "image/png": "[encoded data removed]"
          },
          "metadata": {
            "needs_background": "light"
          }
        }
      ]
    },
    {
      "cell_type": "code",
      "source": [
        "prediction=BNBmodel.predict(X_testSelectedFeature)\n",
        "print('Accuracy = ', metrics.accuracy_score(y_test, y3_predict_test)*100)"
      ],
      "metadata": {
        "id": "0GYyUTxYt1d1",
        "colab": {
          "base_uri": "https://localhost:8080/"
        },
        "outputId": "6f6038c7-749a-469a-b459-e689f6890d1e"
      },
      "execution_count": null,
      "outputs": [
        {
          "output_type": "stream",
          "name": "stdout",
          "text": [
            "Accuracy =  70.66666666666667\n"
          ]
        }
      ]
    },
    {
      "cell_type": "code",
      "source": [
        "y_predictionKNN_proba=BNBmodel.predict_proba(X_testSelectedFeature)[:,1]\n",
        "AUCKNN=metrics.roc_auc_score(y_test,y_predictionKNN_proba)\n",
        "print(\"AUC: \",AUCKNN)\n",
        "fprKNN, tprKNN, thresholds = metrics.roc_curve(y_test,y_predictionKNN_proba)\n",
        "\n",
        "plt.plot(fprKNN,tprKNN,label=\"( area = \"+str(AUCKNN)+\" )\")\n",
        "plt.xlabel('False Positive Rate')\n",
        "plt.ylabel('True Positive Rate')\n",
        "plt.legend(loc=4)\n",
        "plt.show()"
      ],
      "metadata": {
        "id": "jLu-2YCD2-Q4",
        "colab": {
          "base_uri": "https://localhost:8080/",
          "height": 296
        },
        "outputId": "6e0a058c-aa90-47b4-dcf6-063997718963"
      },
      "execution_count": null,
      "outputs": [
        {
          "output_type": "stream",
          "name": "stdout",
          "text": [
            "AUC:  0.7831196581196581\n"
          ]
        },
        {
          "output_type": "display_data",
          "data": {
            "text/plain": [
              "<Figure size 432x288 with 1 Axes>"
            ],
            "image/png": "[encoded data removed]"
          },
          "metadata": {
            "needs_background": "light"
          }
        }
      ]
    },
    {
      "cell_type": "code",
      "source": [
        "from sklearn.naive_bayes import MultinomialNB\n",
        "NB=MultinomialNB()\n",
        "NB.fit(X_trainSelectedFeatureAfterSMOTE,y_train)"
      ],
      "metadata": {
        "id": "dq_l-8Bet-B7",
        "colab": {
          "base_uri": "https://localhost:8080/"
        },
        "outputId": "5cbae6f2-49ba-4638-c750-23b471a88868"
      },
      "execution_count": null,
      "outputs": [
        {
          "output_type": "execute_result",
          "data": {
            "text/plain": [
              "MultinomialNB()"
            ]
          },
          "metadata": {},
          "execution_count": 49
        }
      ]
    },
    {
      "cell_type": "code",
      "source": [
        "y2_predict_test=NB.predict(X_testSelectedFeature)\n",
        "cm2=confusion_matrix(y_test,y2_predict_test)\n",
        "sns.heatmap(cm2,annot=True)\n",
        "print(classification_report(y_test,y2_predict_test))"
      ],
      "metadata": {
        "id": "wR7i2a6WuFjA",
        "colab": {
          "base_uri": "https://localhost:8080/",
          "height": 421
        },
        "outputId": "d440ed45-f6ac-46ef-c26b-f8182f5fb852"
      },
      "execution_count": null,
      "outputs": [
        {
          "output_type": "stream",
          "name": "stdout",
          "text": [
            "              precision    recall  f1-score   support\n",
            "\n",
            "           0       0.73      0.61      0.67        36\n",
            "           1       0.69      0.79      0.74        39\n",
            "\n",
            "    accuracy                           0.71        75\n",
            "   macro avg       0.71      0.70      0.70        75\n",
            "weighted avg       0.71      0.71      0.70        75\n",
            "\n"
          ]
        },
        {
          "output_type": "display_data",
          "data": {
            "text/plain": [
              "<Figure size 432x288 with 2 Axes>"
            ],
            "image/png": "[encoded data removed]"
          },
          "metadata": {
            "needs_background": "light"
          }
        }
      ]
    },
    {
      "cell_type": "code",
      "source": [
        "y_predictionKNN_proba=NB.predict_proba(X_testSelectedFeature)[:,1]\n",
        "AUCKNN=metrics.roc_auc_score(y_test,y_predictionKNN_proba)\n",
        "print(\"AUC: \",AUCKNN)\n",
        "fprKNN, tprKNN, thresholds = metrics.roc_curve(y_test,y_predictionKNN_proba)\n",
        "\n",
        "plt.plot(fprKNN,tprKNN,label=\"( area = \"+str(AUCKNN)+\" )\")\n",
        "plt.xlabel('False Positive Rate')\n",
        "plt.ylabel('True Positive Rate')\n",
        "plt.legend(loc=4)\n",
        "plt.show()"
      ],
      "metadata": {
        "id": "1Z9wdo7_37eZ",
        "colab": {
          "base_uri": "https://localhost:8080/",
          "height": 296
        },
        "outputId": "d235a56e-409a-4f5a-dc17-93cf35355efc"
      },
      "execution_count": null,
      "outputs": [
        {
          "output_type": "stream",
          "name": "stdout",
          "text": [
            "AUC:  0.7727920227920229\n"
          ]
        },
        {
          "output_type": "display_data",
          "data": {
            "text/plain": [
              "<Figure size 432x288 with 1 Axes>"
            ],
            "image/png": "[encoded data removed]"
          },
          "metadata": {
            "needs_background": "light"
          }
        }
      ]
    },
    {
      "cell_type": "code",
      "source": [
        "prediction=NB.predict(X_testSelectedFeature)\n",
        "print('Accuracy = ', metrics.accuracy_score(y_test, y2_predict_test)*100)"
      ],
      "metadata": {
        "id": "2dh7yeNbuTfq",
        "colab": {
          "base_uri": "https://localhost:8080/"
        },
        "outputId": "cce5d002-095e-43e3-e7b4-d42778feb211"
      },
      "execution_count": null,
      "outputs": [
        {
          "output_type": "stream",
          "name": "stdout",
          "text": [
            "Accuracy =  70.66666666666667\n"
          ]
        }
      ]
    },
    {
      "cell_type": "code",
      "source": [
        ""
      ],
      "metadata": {
        "id": "n2LFLnNX8YlH"
      },
      "execution_count": null,
      "outputs": []
    },
    {
      "cell_type": "code",
      "source": [
        "# Import Library\n",
        "import numpy as np \n",
        "import matplotlib.pyplot as plt \n",
        "\n",
        "# Define Data\n",
        "data3 = ['SelectKBest']\n",
        "xvals = [69.33]\n",
        "yvals = [72]\n",
        "zvals = [69.33]\n",
        "avals = [72.0]\n",
        "bvals = [72.0]\n",
        "\n",
        "x_axis = np.arange(len(data3))\n",
        "\n",
        "# Multi bar Chart\n",
        "plt.bar(x_axis +0.1, xvals, width=0.07, label = 'KNN')\n",
        "plt.bar(x_axis +0.1*2, yvals, width=0.07, label = 'AdaBoost')\n",
        "plt.bar(x_axis +0.1*3, zvals, width=0.07, label = 'GradientBoost')\n",
        "plt.bar(x_axis +0.1*4, avals, width=0.07, label = 'XGBoost')\n",
        "plt.bar(x_axis +0.1*5, bvals, width=0.07, label = 'Bagging')\n",
        "\n",
        "# Xticks\n",
        "plt.xticks(x_axis,data3)\n",
        "plt.ylabel(\"Accuracy (%)\")\n",
        "plt.xlabel(\"Experiments on classification \")\n",
        "plt.title(\"Comparitive analysis using Boruta\")\n",
        "plt.legend()\n",
        "plt.show()"
      ],
      "metadata": {
        "id": "zptjWHbG3o2B",
        "outputId": "6e69fe27-f060-4307-a9cb-4ba07a7a9039",
        "colab": {
          "base_uri": "https://localhost:8080/",
          "height": 278
        }
      },
      "execution_count": null,
      "outputs": [
        {
          "output_type": "display_data",
          "data": {
            "text/plain": [
              "<Figure size 432x288 with 1 Axes>"
            ],
            "image/png": "[encoded data removed]"
          },
          "metadata": {
            "needs_background": "light"
          }
        }
      ]
    },
    {
      "cell_type": "code",
      "source": [
        "plt.figure()\n",
        "\n",
        "#plt.plot(fprRBF,tprRBF,label=\"SVM (AUC: 0.95)\")\n",
        "plt.plot(fprKNN,tprKNN,label=\"KNN (AUC: 0.66)\")\n",
        "#plt.plot(fprDT,tprDT,label=\"DT (AUC: 0.86)\")\n",
        "#plt.plot(fprRF,tprRF,label=\"RF (AUC: 0.90)\")\n",
        "plt.plot(fprAda,tprAda,label=\"AdaBoost (AUC: 0.81)\")\n",
        "#plt.plot(fprMLP,tprMLP,label=\"MLP (AUC: 0.96)\")\n",
        "plt.plot(fprGradientBoost,tprGradientBoost,label=\"GB (AUC: 0.79)\")\n",
        "plt.plot(fprXgB,tprXgB,label=\"XGBoost (AUC: 0.78)\")\n",
        "plt.plot(fprBagMLP,tprBagMLP,label=\"Bagging (AUC: 0.80)\")\n",
        "\n",
        "\n",
        "plt.plot([0, 1], [0, 1], color='navy', linestyle='--')\n",
        "plt.xlabel('False Positive Rate')\n",
        "plt.ylabel('True Positive Rate')\n",
        "plt.legend(loc=4)\n",
        "plt.savefig('Without feature selection-SMOTE-ROCNew.png',dpi=1000)\n",
        "plt.show()"
      ],
      "metadata": {
        "id": "uTUeCMICMr7M",
        "outputId": "9c4d4c9f-763f-4a65-ce81-7f67946dbf90",
        "colab": {
          "base_uri": "https://localhost:8080/",
          "height": 279
        }
      },
      "execution_count": null,
      "outputs": [
        {
          "output_type": "display_data",
          "data": {
            "text/plain": [
              "<Figure size 432x288 with 1 Axes>"
            ],
            "image/png": "[encoded data removed]"
          },
          "metadata": {
            "needs_background": "light"
          }
        }
      ]
    },
    {
      "cell_type": "code",
      "source": [
        "X_train = X_trainSelectedFeatureAfterSMOTE.to_numpy()\n",
        "y_train = y_train.to_numpy().squeeze()\n",
        "X_test  = X_testSelectedFeature.to_numpy()\n"
      ],
      "metadata": {
        "id": "89s8f-1k8bqK"
      },
      "execution_count": null,
      "outputs": []
    },
    {
      "cell_type": "code",
      "source": [
        "import numpy  as np\n",
        "import pandas as pd\n",
        "!pip install pytorch-tabnet\n",
        "from pytorch_tabnet.tab_model import TabNetClassifier\n",
        "import torch\n",
        "\n",
        "\n",
        "classifier = TabNetClassifier(optimizer_fn=torch.optim.Adam,\n",
        "                       optimizer_params=dict(lr=1e-2),\n",
        "                       scheduler_params={\"step_size\":10,\"gamma\":0.9},\n",
        "                       scheduler_fn=torch.optim.lr_scheduler.StepLR,\n",
        "                       mask_type='entmax')\n"
      ],
      "metadata": {
        "colab": {
          "base_uri": "https://localhost:8080/"
        },
        "id": "Lrx4YyBBElW-",
        "outputId": "e4f3286e-f1fd-475b-b4e2-34834a25dbf4"
      },
      "execution_count": null,
      "outputs": [
        {
          "output_type": "stream",
          "name": "stdout",
          "text": [
            "Looking in indexes: https://pypi.org/simple, https://us-python.pkg.dev/colab-wheels/public/simple/\n",
            "Requirement already satisfied: pytorch-tabnet in /usr/local/lib/python3.7/dist-packages (3.1.1)\n",
            "Requirement already satisfied: torch<2.0,>=1.2 in /usr/local/lib/python3.7/dist-packages (from pytorch-tabnet) (1.11.0+cu113)\n",
            "Requirement already satisfied: scikit_learn>0.21 in /usr/local/lib/python3.7/dist-packages (from pytorch-tabnet) (1.0.2)\n",
            "Requirement already satisfied: tqdm<5.0,>=4.36 in /usr/local/lib/python3.7/dist-packages (from pytorch-tabnet) (4.64.0)\n",
            "Requirement already satisfied: scipy>1.4 in /usr/local/lib/python3.7/dist-packages (from pytorch-tabnet) (1.4.1)\n",
            "Requirement already satisfied: numpy<2.0,>=1.17 in /usr/local/lib/python3.7/dist-packages (from pytorch-tabnet) (1.21.6)\n",
            "Requirement already satisfied: threadpoolctl>=2.0.0 in /usr/local/lib/python3.7/dist-packages (from scikit_learn>0.21->pytorch-tabnet) (3.1.0)\n",
            "Requirement already satisfied: joblib>=0.11 in /usr/local/lib/python3.7/dist-packages (from scikit_learn>0.21->pytorch-tabnet) (1.1.0)\n",
            "Requirement already satisfied: typing-extensions in /usr/local/lib/python3.7/dist-packages (from torch<2.0,>=1.2->pytorch-tabnet) (4.2.0)\n",
            "Device used : cpu\n"
          ]
        }
      ]
    },
    {
      "cell_type": "code",
      "source": [
        "classifier.fit(X_train=X_train, y_train=y_train,\n",
        "               patience=5,max_epochs=333,\n",
        "               eval_metric=['auc'])"
      ],
      "metadata": {
        "colab": {
          "base_uri": "https://localhost:8080/"
        },
        "id": "e84yXhu-I1xc",
        "outputId": "a7ef87bb-9093-4a2f-bdd6-567af2b64732"
      },
      "execution_count": null,
      "outputs": [
        {
          "output_type": "stream",
          "name": "stdout",
          "text": [
            "No early stopping will be performed, last training weights will be used.\n",
            "epoch 0  | loss: 0.1052  |  0:00:00s\n",
            "epoch 1  | loss: 0.12574 |  0:00:00s\n",
            "epoch 2  | loss: 0.10222 |  0:00:00s\n",
            "epoch 3  | loss: 0.15098 |  0:00:00s\n",
            "epoch 4  | loss: 0.11866 |  0:00:00s\n",
            "epoch 5  | loss: 0.10811 |  0:00:00s\n",
            "epoch 6  | loss: 0.12903 |  0:00:00s\n",
            "epoch 7  | loss: 0.11901 |  0:00:00s\n",
            "epoch 8  | loss: 0.1206  |  0:00:00s\n",
            "epoch 9  | loss: 0.11087 |  0:00:00s\n",
            "epoch 10 | loss: 0.11482 |  0:00:00s\n",
            "epoch 11 | loss: 0.11232 |  0:00:00s\n",
            "epoch 12 | loss: 0.12102 |  0:00:00s\n",
            "epoch 13 | loss: 0.1061  |  0:00:00s\n",
            "epoch 14 | loss: 0.14447 |  0:00:00s\n",
            "epoch 15 | loss: 0.11155 |  0:00:00s\n",
            "epoch 16 | loss: 0.13056 |  0:00:00s\n",
            "epoch 17 | loss: 0.11657 |  0:00:00s\n",
            "epoch 18 | loss: 0.12163 |  0:00:00s\n",
            "epoch 19 | loss: 0.11482 |  0:00:00s\n",
            "epoch 20 | loss: 0.13793 |  0:00:00s\n",
            "epoch 21 | loss: 0.1261  |  0:00:00s\n",
            "epoch 22 | loss: 0.14113 |  0:00:00s\n",
            "epoch 23 | loss: 0.11667 |  0:00:00s\n",
            "epoch 24 | loss: 0.11351 |  0:00:00s\n",
            "epoch 25 | loss: 0.10266 |  0:00:00s\n",
            "epoch 26 | loss: 0.10529 |  0:00:00s\n",
            "epoch 27 | loss: 0.11273 |  0:00:01s\n",
            "epoch 28 | loss: 0.0978  |  0:00:01s\n",
            "epoch 29 | loss: 0.13368 |  0:00:01s\n",
            "epoch 30 | loss: 0.12963 |  0:00:01s\n",
            "epoch 31 | loss: 0.10837 |  0:00:01s\n",
            "epoch 32 | loss: 0.11785 |  0:00:01s\n",
            "epoch 33 | loss: 0.1099  |  0:00:01s\n",
            "epoch 34 | loss: 0.11404 |  0:00:01s\n",
            "epoch 35 | loss: 0.12557 |  0:00:01s\n",
            "epoch 36 | loss: 0.11072 |  0:00:01s\n",
            "epoch 37 | loss: 0.11695 |  0:00:01s\n",
            "epoch 38 | loss: 0.11999 |  0:00:01s\n",
            "epoch 39 | loss: 0.11077 |  0:00:01s\n",
            "epoch 40 | loss: 0.11565 |  0:00:01s\n",
            "epoch 41 | loss: 0.1026  |  0:00:01s\n",
            "epoch 42 | loss: 0.09766 |  0:00:01s\n",
            "epoch 43 | loss: 0.10306 |  0:00:01s\n",
            "epoch 44 | loss: 0.12185 |  0:00:01s\n",
            "epoch 45 | loss: 0.11768 |  0:00:01s\n",
            "epoch 46 | loss: 0.11628 |  0:00:01s\n",
            "epoch 47 | loss: 0.10831 |  0:00:01s\n",
            "epoch 48 | loss: 0.11435 |  0:00:01s\n",
            "epoch 49 | loss: 0.11836 |  0:00:01s\n",
            "epoch 50 | loss: 0.1198  |  0:00:01s\n",
            "epoch 51 | loss: 0.10674 |  0:00:01s\n",
            "epoch 52 | loss: 0.11356 |  0:00:01s\n",
            "epoch 53 | loss: 0.10726 |  0:00:01s\n",
            "epoch 54 | loss: 0.11985 |  0:00:01s\n",
            "epoch 55 | loss: 0.09998 |  0:00:02s\n",
            "epoch 56 | loss: 0.10196 |  0:00:02s\n",
            "epoch 57 | loss: 0.10855 |  0:00:02s\n",
            "epoch 58 | loss: 0.11965 |  0:00:02s\n",
            "epoch 59 | loss: 0.09593 |  0:00:02s\n",
            "epoch 60 | loss: 0.09904 |  0:00:02s\n",
            "epoch 61 | loss: 0.09966 |  0:00:02s\n",
            "epoch 62 | loss: 0.1227  |  0:00:02s\n",
            "epoch 63 | loss: 0.12698 |  0:00:02s\n",
            "epoch 64 | loss: 0.09747 |  0:00:02s\n",
            "epoch 65 | loss: 0.10744 |  0:00:02s\n",
            "epoch 66 | loss: 0.10975 |  0:00:02s\n",
            "epoch 67 | loss: 0.09519 |  0:00:02s\n",
            "epoch 68 | loss: 0.12835 |  0:00:02s\n",
            "epoch 69 | loss: 0.11127 |  0:00:02s\n",
            "epoch 70 | loss: 0.12524 |  0:00:02s\n",
            "epoch 71 | loss: 0.14629 |  0:00:02s\n",
            "epoch 72 | loss: 0.09996 |  0:00:02s\n",
            "epoch 73 | loss: 0.09836 |  0:00:02s\n",
            "epoch 74 | loss: 0.11663 |  0:00:02s\n",
            "epoch 75 | loss: 0.11908 |  0:00:02s\n",
            "epoch 76 | loss: 0.11411 |  0:00:02s\n",
            "epoch 77 | loss: 0.11419 |  0:00:02s\n",
            "epoch 78 | loss: 0.12661 |  0:00:02s\n",
            "epoch 79 | loss: 0.11246 |  0:00:02s\n",
            "epoch 80 | loss: 0.10862 |  0:00:02s\n",
            "epoch 81 | loss: 0.1142  |  0:00:02s\n",
            "epoch 82 | loss: 0.14108 |  0:00:02s\n",
            "epoch 83 | loss: 0.10827 |  0:00:02s\n",
            "epoch 84 | loss: 0.12179 |  0:00:03s\n",
            "epoch 85 | loss: 0.10809 |  0:00:03s\n",
            "epoch 86 | loss: 0.09869 |  0:00:03s\n",
            "epoch 87 | loss: 0.10526 |  0:00:03s\n",
            "epoch 88 | loss: 0.10467 |  0:00:03s\n",
            "epoch 89 | loss: 0.10235 |  0:00:03s\n",
            "epoch 90 | loss: 0.09868 |  0:00:03s\n",
            "epoch 91 | loss: 0.10109 |  0:00:03s\n",
            "epoch 92 | loss: 0.09591 |  0:00:03s\n",
            "epoch 93 | loss: 0.10873 |  0:00:03s\n",
            "epoch 94 | loss: 0.10405 |  0:00:03s\n",
            "epoch 95 | loss: 0.10253 |  0:00:03s\n",
            "epoch 96 | loss: 0.10465 |  0:00:03s\n",
            "epoch 97 | loss: 0.10947 |  0:00:03s\n",
            "epoch 98 | loss: 0.10437 |  0:00:03s\n",
            "epoch 99 | loss: 0.11419 |  0:00:03s\n",
            "epoch 100| loss: 0.09657 |  0:00:03s\n",
            "epoch 101| loss: 0.1178  |  0:00:03s\n",
            "epoch 102| loss: 0.10884 |  0:00:03s\n",
            "epoch 103| loss: 0.09857 |  0:00:03s\n",
            "epoch 104| loss: 0.1129  |  0:00:03s\n",
            "epoch 105| loss: 0.09912 |  0:00:03s\n",
            "epoch 106| loss: 0.10615 |  0:00:03s\n",
            "epoch 107| loss: 0.14898 |  0:00:03s\n",
            "epoch 108| loss: 0.10546 |  0:00:03s\n",
            "epoch 109| loss: 0.11014 |  0:00:03s\n",
            "epoch 110| loss: 0.1038  |  0:00:03s\n",
            "epoch 111| loss: 0.11319 |  0:00:03s\n",
            "epoch 112| loss: 0.11263 |  0:00:03s\n",
            "epoch 113| loss: 0.10075 |  0:00:04s\n",
            "epoch 114| loss: 0.11013 |  0:00:04s\n",
            "epoch 115| loss: 0.10188 |  0:00:04s\n",
            "epoch 116| loss: 0.1043  |  0:00:04s\n",
            "epoch 117| loss: 0.14029 |  0:00:04s\n",
            "epoch 118| loss: 0.11272 |  0:00:04s\n",
            "epoch 119| loss: 0.1098  |  0:00:04s\n",
            "epoch 120| loss: 0.11199 |  0:00:04s\n",
            "epoch 121| loss: 0.09853 |  0:00:04s\n",
            "epoch 122| loss: 0.10447 |  0:00:04s\n",
            "epoch 123| loss: 0.10672 |  0:00:04s\n",
            "epoch 124| loss: 0.14235 |  0:00:04s\n",
            "epoch 125| loss: 0.10415 |  0:00:04s\n",
            "epoch 126| loss: 0.1235  |  0:00:04s\n",
            "epoch 127| loss: 0.09818 |  0:00:04s\n",
            "epoch 128| loss: 0.09978 |  0:00:04s\n",
            "epoch 129| loss: 0.12642 |  0:00:04s\n",
            "epoch 130| loss: 0.11163 |  0:00:04s\n",
            "epoch 131| loss: 0.10484 |  0:00:04s\n",
            "epoch 132| loss: 0.10569 |  0:00:04s\n",
            "epoch 133| loss: 0.11366 |  0:00:04s\n",
            "epoch 134| loss: 0.10866 |  0:00:04s\n",
            "epoch 135| loss: 0.09611 |  0:00:04s\n",
            "epoch 136| loss: 0.09742 |  0:00:04s\n",
            "epoch 137| loss: 0.09809 |  0:00:04s\n",
            "epoch 138| loss: 0.10534 |  0:00:04s\n",
            "epoch 139| loss: 0.10477 |  0:00:04s\n",
            "epoch 140| loss: 0.10073 |  0:00:04s\n",
            "epoch 141| loss: 0.10465 |  0:00:04s\n",
            "epoch 142| loss: 0.1108  |  0:00:05s\n",
            "epoch 143| loss: 0.11887 |  0:00:05s\n",
            "epoch 144| loss: 0.10614 |  0:00:05s\n",
            "epoch 145| loss: 0.10244 |  0:00:05s\n",
            "epoch 146| loss: 0.10172 |  0:00:05s\n",
            "epoch 147| loss: 0.12425 |  0:00:05s\n",
            "epoch 148| loss: 0.10997 |  0:00:05s\n",
            "epoch 149| loss: 0.12966 |  0:00:05s\n",
            "epoch 150| loss: 0.10222 |  0:00:05s\n",
            "epoch 151| loss: 0.09815 |  0:00:05s\n",
            "epoch 152| loss: 0.10199 |  0:00:05s\n",
            "epoch 153| loss: 0.09896 |  0:00:05s\n",
            "epoch 154| loss: 0.10216 |  0:00:05s\n",
            "epoch 155| loss: 0.10202 |  0:00:05s\n",
            "epoch 156| loss: 0.09821 |  0:00:05s\n",
            "epoch 157| loss: 0.09429 |  0:00:05s\n",
            "epoch 158| loss: 0.1022  |  0:00:05s\n",
            "epoch 159| loss: 0.1097  |  0:00:05s\n",
            "epoch 160| loss: 0.11171 |  0:00:05s\n",
            "epoch 161| loss: 0.10103 |  0:00:05s\n",
            "epoch 162| loss: 0.09634 |  0:00:05s\n",
            "epoch 163| loss: 0.1015  |  0:00:05s\n",
            "epoch 164| loss: 0.10357 |  0:00:05s\n",
            "epoch 165| loss: 0.10555 |  0:00:05s\n",
            "epoch 166| loss: 0.1266  |  0:00:05s\n",
            "epoch 167| loss: 0.12342 |  0:00:05s\n",
            "epoch 168| loss: 0.09782 |  0:00:05s\n",
            "epoch 169| loss: 0.09938 |  0:00:05s\n",
            "epoch 170| loss: 0.10942 |  0:00:05s\n",
            "epoch 171| loss: 0.11622 |  0:00:05s\n",
            "epoch 172| loss: 0.09945 |  0:00:06s\n",
            "epoch 173| loss: 0.10539 |  0:00:06s\n",
            "epoch 174| loss: 0.10304 |  0:00:06s\n",
            "epoch 175| loss: 0.10536 |  0:00:06s\n",
            "epoch 176| loss: 0.10028 |  0:00:06s\n",
            "epoch 177| loss: 0.11601 |  0:00:06s\n",
            "epoch 178| loss: 0.09745 |  0:00:06s\n",
            "epoch 179| loss: 0.09718 |  0:00:06s\n",
            "epoch 180| loss: 0.10098 |  0:00:06s\n",
            "epoch 181| loss: 0.11173 |  0:00:06s\n",
            "epoch 182| loss: 0.10418 |  0:00:06s\n",
            "epoch 183| loss: 0.13517 |  0:00:06s\n",
            "epoch 184| loss: 0.1238  |  0:00:06s\n",
            "epoch 185| loss: 0.10755 |  0:00:06s\n",
            "epoch 186| loss: 0.10577 |  0:00:06s\n",
            "epoch 187| loss: 0.10052 |  0:00:06s\n",
            "epoch 188| loss: 0.10029 |  0:00:06s\n",
            "epoch 189| loss: 0.12339 |  0:00:06s\n",
            "epoch 190| loss: 0.10492 |  0:00:06s\n",
            "epoch 191| loss: 0.09703 |  0:00:06s\n",
            "epoch 192| loss: 0.1155  |  0:00:06s\n",
            "epoch 193| loss: 0.09628 |  0:00:06s\n",
            "epoch 194| loss: 0.12379 |  0:00:06s\n",
            "epoch 195| loss: 0.10148 |  0:00:06s\n",
            "epoch 196| loss: 0.1198  |  0:00:06s\n",
            "epoch 197| loss: 0.09559 |  0:00:06s\n",
            "epoch 198| loss: 0.11153 |  0:00:06s\n",
            "epoch 199| loss: 0.09548 |  0:00:06s\n",
            "epoch 200| loss: 0.11184 |  0:00:06s\n",
            "epoch 201| loss: 0.12568 |  0:00:07s\n",
            "epoch 202| loss: 0.11184 |  0:00:07s\n",
            "epoch 203| loss: 0.10618 |  0:00:07s\n",
            "epoch 204| loss: 0.10167 |  0:00:07s\n",
            "epoch 205| loss: 0.10302 |  0:00:07s\n",
            "epoch 206| loss: 0.11699 |  0:00:07s\n",
            "epoch 207| loss: 0.09984 |  0:00:07s\n",
            "epoch 208| loss: 0.10417 |  0:00:07s\n",
            "epoch 209| loss: 0.10478 |  0:00:07s\n",
            "epoch 210| loss: 0.1042  |  0:00:07s\n",
            "epoch 211| loss: 0.10122 |  0:00:07s\n",
            "epoch 212| loss: 0.10352 |  0:00:07s\n",
            "epoch 213| loss: 0.10015 |  0:00:07s\n",
            "epoch 214| loss: 0.09922 |  0:00:07s\n",
            "epoch 215| loss: 0.10601 |  0:00:07s\n",
            "epoch 216| loss: 0.10385 |  0:00:07s\n",
            "epoch 217| loss: 0.14401 |  0:00:07s\n",
            "epoch 218| loss: 0.10523 |  0:00:07s\n",
            "epoch 219| loss: 0.11318 |  0:00:07s\n",
            "epoch 220| loss: 0.0998  |  0:00:07s\n",
            "epoch 221| loss: 0.10045 |  0:00:07s\n",
            "epoch 222| loss: 0.09776 |  0:00:07s\n",
            "epoch 223| loss: 0.09645 |  0:00:07s\n",
            "epoch 224| loss: 0.10596 |  0:00:07s\n",
            "epoch 225| loss: 0.10734 |  0:00:07s\n",
            "epoch 226| loss: 0.1019  |  0:00:07s\n",
            "epoch 227| loss: 0.10861 |  0:00:07s\n",
            "epoch 228| loss: 0.11863 |  0:00:07s\n",
            "epoch 229| loss: 0.10289 |  0:00:07s\n",
            "epoch 230| loss: 0.10207 |  0:00:08s\n",
            "epoch 231| loss: 0.12521 |  0:00:08s\n",
            "epoch 232| loss: 0.10051 |  0:00:08s\n",
            "epoch 233| loss: 0.09863 |  0:00:08s\n",
            "epoch 234| loss: 0.10046 |  0:00:08s\n",
            "epoch 235| loss: 0.09651 |  0:00:08s\n",
            "epoch 236| loss: 0.09801 |  0:00:08s\n",
            "epoch 237| loss: 0.10577 |  0:00:08s\n",
            "epoch 238| loss: 0.09825 |  0:00:08s\n",
            "epoch 239| loss: 0.10007 |  0:00:08s\n",
            "epoch 240| loss: 0.09615 |  0:00:08s\n",
            "epoch 241| loss: 0.11366 |  0:00:08s\n",
            "epoch 242| loss: 0.09812 |  0:00:08s\n",
            "epoch 243| loss: 0.09337 |  0:00:08s\n",
            "epoch 244| loss: 0.10137 |  0:00:08s\n",
            "epoch 245| loss: 0.10545 |  0:00:08s\n",
            "epoch 246| loss: 0.10046 |  0:00:09s\n",
            "epoch 247| loss: 0.10467 |  0:00:09s\n",
            "epoch 248| loss: 0.10415 |  0:00:09s\n",
            "epoch 249| loss: 0.09375 |  0:00:09s\n",
            "epoch 250| loss: 0.09559 |  0:00:09s\n",
            "epoch 251| loss: 0.10113 |  0:00:09s\n",
            "epoch 252| loss: 0.10991 |  0:00:09s\n",
            "epoch 253| loss: 0.12937 |  0:00:09s\n",
            "epoch 254| loss: 0.09979 |  0:00:09s\n",
            "epoch 255| loss: 0.10732 |  0:00:09s\n",
            "epoch 256| loss: 0.1195  |  0:00:09s\n",
            "epoch 257| loss: 0.14213 |  0:00:09s\n",
            "epoch 258| loss: 0.10363 |  0:00:09s\n",
            "epoch 259| loss: 0.10153 |  0:00:09s\n",
            "epoch 260| loss: 0.104   |  0:00:09s\n",
            "epoch 261| loss: 0.15213 |  0:00:09s\n",
            "epoch 262| loss: 0.10483 |  0:00:09s\n",
            "epoch 263| loss: 0.10451 |  0:00:09s\n",
            "epoch 264| loss: 0.1023  |  0:00:10s\n",
            "epoch 265| loss: 0.12107 |  0:00:10s\n",
            "epoch 266| loss: 0.09588 |  0:00:10s\n",
            "epoch 267| loss: 0.15048 |  0:00:10s\n",
            "epoch 268| loss: 0.12907 |  0:00:10s\n",
            "epoch 269| loss: 0.11678 |  0:00:10s\n",
            "epoch 270| loss: 0.11339 |  0:00:10s\n",
            "epoch 271| loss: 0.11953 |  0:00:10s\n",
            "epoch 272| loss: 0.10367 |  0:00:10s\n",
            "epoch 273| loss: 0.10035 |  0:00:10s\n",
            "epoch 274| loss: 0.1089  |  0:00:10s\n",
            "epoch 275| loss: 0.12198 |  0:00:11s\n",
            "epoch 276| loss: 0.10403 |  0:00:11s\n",
            "epoch 277| loss: 0.11828 |  0:00:11s\n",
            "epoch 278| loss: 0.09821 |  0:00:11s\n",
            "epoch 279| loss: 0.1195  |  0:00:11s\n",
            "epoch 280| loss: 0.12203 |  0:00:11s\n",
            "epoch 281| loss: 0.10797 |  0:00:11s\n",
            "epoch 282| loss: 0.1164  |  0:00:11s\n",
            "epoch 283| loss: 0.12889 |  0:00:11s\n",
            "epoch 284| loss: 0.09798 |  0:00:11s\n",
            "epoch 285| loss: 0.10215 |  0:00:11s\n",
            "epoch 286| loss: 0.1112  |  0:00:11s\n",
            "epoch 287| loss: 0.09883 |  0:00:11s\n",
            "epoch 288| loss: 0.11925 |  0:00:11s\n",
            "epoch 289| loss: 0.11868 |  0:00:11s\n",
            "epoch 290| loss: 0.10086 |  0:00:11s\n",
            "epoch 291| loss: 0.10206 |  0:00:11s\n",
            "epoch 292| loss: 0.11727 |  0:00:11s\n",
            "epoch 293| loss: 0.1104  |  0:00:11s\n",
            "epoch 294| loss: 0.09871 |  0:00:11s\n",
            "epoch 295| loss: 0.0966  |  0:00:11s\n",
            "epoch 296| loss: 0.0998  |  0:00:11s\n",
            "epoch 297| loss: 0.11309 |  0:00:11s\n",
            "epoch 298| loss: 0.10553 |  0:00:11s\n",
            "epoch 299| loss: 0.10757 |  0:00:11s\n",
            "epoch 300| loss: 0.12318 |  0:00:11s\n",
            "epoch 301| loss: 0.11472 |  0:00:11s\n",
            "epoch 302| loss: 0.10046 |  0:00:11s\n",
            "epoch 303| loss: 0.09629 |  0:00:11s\n",
            "epoch 304| loss: 0.10102 |  0:00:11s\n",
            "epoch 305| loss: 0.09349 |  0:00:11s\n",
            "epoch 306| loss: 0.0985  |  0:00:11s\n",
            "epoch 307| loss: 0.09407 |  0:00:11s\n",
            "epoch 308| loss: 0.10448 |  0:00:11s\n",
            "epoch 309| loss: 0.10884 |  0:00:11s\n",
            "epoch 310| loss: 0.09379 |  0:00:11s\n",
            "epoch 311| loss: 0.13073 |  0:00:11s\n",
            "epoch 312| loss: 0.09514 |  0:00:11s\n",
            "epoch 313| loss: 0.09986 |  0:00:11s\n",
            "epoch 314| loss: 0.10901 |  0:00:12s\n",
            "epoch 315| loss: 0.09602 |  0:00:12s\n",
            "epoch 316| loss: 0.0959  |  0:00:12s\n",
            "epoch 317| loss: 0.10197 |  0:00:12s\n",
            "epoch 318| loss: 0.09441 |  0:00:12s\n",
            "epoch 319| loss: 0.09775 |  0:00:12s\n",
            "epoch 320| loss: 0.1199  |  0:00:12s\n",
            "epoch 321| loss: 0.11214 |  0:00:12s\n",
            "epoch 322| loss: 0.0876  |  0:00:12s\n",
            "epoch 323| loss: 0.09448 |  0:00:12s\n",
            "epoch 324| loss: 0.11039 |  0:00:12s\n",
            "epoch 325| loss: 0.1052  |  0:00:12s\n",
            "epoch 326| loss: 0.12653 |  0:00:12s\n",
            "epoch 327| loss: 0.11283 |  0:00:12s\n",
            "epoch 328| loss: 0.10145 |  0:00:12s\n",
            "epoch 329| loss: 0.11818 |  0:00:12s\n",
            "epoch 330| loss: 0.11283 |  0:00:12s\n",
            "epoch 331| loss: 0.10279 |  0:00:12s\n",
            "epoch 332| loss: 0.09893 |  0:00:12s\n"
          ]
        }
      ]
    },
    {
      "cell_type": "code",
      "source": [
        "prediction=classifier.predict(X_test)\n",
        "print('Accuracy = ', metrics.accuracy_score(y_test, prediction)*100)"
      ],
      "metadata": {
        "id": "m8zVzYPoInVU",
        "outputId": "547e9779-396d-4fb6-ab6d-872d35cdb24b",
        "colab": {
          "base_uri": "https://localhost:8080/"
        }
      },
      "execution_count": null,
      "outputs": [
        {
          "output_type": "stream",
          "name": "stdout",
          "text": [
            "Accuracy =  74.66666666666667\n"
          ]
        }
      ]
    }
  ]
}